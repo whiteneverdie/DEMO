{
 "cells": [
  {
   "cell_type": "markdown",
   "metadata": {},
   "source": [
    "### Realize simple NNet with Tensorflow on MNIST dataset\n",
    "baselines:\n",
    "\n",
    "0) Custom Logistic Regressison (TF in-class) ~ 0.9086 (9%)\n",
    "\n",
    "Need to achived:  Accuracy 0.9840 (Error Rate 1,6%)\n",
    "\n",
    "http://yann.lecun.com/exdb/mnist/\n",
    "\n",
    "1) 2-layer NN, 300 HU, 1998, Y. LeCun\n",
    "\n",
    "2) 2-layer NN, 800 HU, 2003, P. Simard\n"
   ]
  },
  {
   "cell_type": "code",
   "execution_count": 1,
   "metadata": {},
   "outputs": [
    {
     "name": "stdout",
     "output_type": "stream",
     "text": [
      "3.6.6 | packaged by conda-forge | (default, Jul 26 2018, 11:48:23) [MSC v.1900 64 bit (AMD64)]\n",
      "tensorflow 1.12.0\n",
      "/job:localhost/replica:0/task:0/device:CPU:0\n"
     ]
    }
   ],
   "source": [
    "import sys\n",
    "print(sys.version)\n",
    "\n",
    "import numpy as np\n",
    "import tensorflow as tf\n",
    "from tensorflow.keras.datasets import mnist\n",
    "print('tensorflow',tf.__version__)\n",
    "\n",
    "sess = tf.InteractiveSession() \n",
    "devices = sess.list_devices()\n",
    "for d in devices:\n",
    "    print(d.name)\n",
    "sess.close()\n",
    "\n",
    "import datetime, time\n",
    "\n",
    "from matplotlib import pyplot as plt\n",
    "# %pylab inline"
   ]
  },
  {
   "cell_type": "code",
   "execution_count": 2,
   "metadata": {},
   "outputs": [],
   "source": [
    "def load_dataset(val_prop = 1/6, normalize = True, flatten = False):\n",
    "    '''function from hse-class (utility 7/10) - extended'''\n",
    "    (X_train, y_train), (X_test, y_test) = mnist.load_data()\n",
    "\n",
    "    # normalize input matrix\n",
    "    if normalize:\n",
    "        X_train = X_train.astype(float) / 255.\n",
    "        X_test = X_test.astype(float) / 255.\n",
    "\n",
    "    # train-validation partitioning\n",
    "    PROP_VALUE = int(round(X_train.shape[0]*val_prop,0))\n",
    "    X_train, X_val = X_train[:-PROP_VALUE], X_train[-PROP_VALUE:]\n",
    "    \n",
    "    # make OHE-trasformation for target\n",
    "    def np_ohe(x, uniq):\n",
    "        return np.array([(x == i)*1 for i in uniq]).T\n",
    "    \n",
    "    y_train = np_ohe(y_train, np.unique(y_train).tolist())\n",
    "    y_train, y_val = y_train[:-PROP_VALUE], y_train[-PROP_VALUE:]\n",
    "    y_test = np_ohe(y_test, np.unique(y_test).tolist())\n",
    "    \n",
    "    if flatten: \n",
    "        X_train = X_train.reshape(-1,28**2)\n",
    "        X_val = X_val.reshape(-1,28**2)\n",
    "        X_test = X_test.reshape(-1,28**2)\n",
    "    \n",
    "    return X_train, y_train, X_val, y_val, X_test, y_test\n",
    "\n",
    "X_train, y_train, X_val, y_val, X_test, y_test = load_dataset(flatten = True)"
   ]
  },
  {
   "cell_type": "code",
   "execution_count": 3,
   "metadata": {},
   "outputs": [
    {
     "name": "stdout",
     "output_type": "stream",
     "text": [
      "X: train, val, test\n",
      "(50000, 784)\n",
      "(10000, 784)\n",
      "(10000, 784)\n",
      "y: train, val, test\n",
      "(50000, 10)\n",
      "(10000, 10)\n",
      "(10000, 10)\n"
     ]
    }
   ],
   "source": [
    "print('X: train, val, test',X_train.shape,X_val.shape,X_test.shape,sep='\\n')\n",
    "print('y: train, val, test',y_train.shape,y_val.shape,y_test.shape,sep='\\n')"
   ]
  },
  {
   "cell_type": "code",
   "execution_count": 4,
   "metadata": {},
   "outputs": [
    {
     "name": "stdout",
     "output_type": "stream",
     "text": [
      "Number: 5\n"
     ]
    },
    {
     "data": {
      "image/png": "[encoded data removed]",
      "text/plain": [
       "<Figure size 432x288 with 1 Axes>"
      ]
     },
     "metadata": {
      "needs_background": "light"
     },
     "output_type": "display_data"
    }
   ],
   "source": [
    "print('Number:',np.argmax(y_train[0]))\n",
    "plt.imshow(X_train[0].reshape(28,28), cmap='PuBu');"
   ]
  },
  {
   "cell_type": "code",
   "execution_count": 5,
   "metadata": {},
   "outputs": [],
   "source": [
    "# NOTES (How to make custom layers - maybe way)\n",
    "\n",
    "# # \n",
    "# def fullyconnected_layer(x, input_size, out_size):\n",
    "#     W = tf.Variable(tf.truncated_normal([input_size, out_size], stddev=0.1))\n",
    "#     b = tf.Variable(tf.truncated_normal([out_size], stddev=0.1))\n",
    "#     return tf.nn.relu(tf.matmul(x,W) + b)\n",
    "# # \n",
    "# def softmax_layer(x, input_size, out_size):\n",
    "#     W = tf.Variable(tf.truncated_normal([input_size, out_size], stddev=0.1))\n",
    "#     b = tf.Variable(tf.truncated_normal([out_size], stddev=0.1))\n",
    "#     return tf.nn.softmax(tf.matmul(x,W) + b)\n",
    "# # "
   ]
  },
  {
   "cell_type": "markdown",
   "metadata": {},
   "source": [
    "..."
   ]
  },
  {
   "cell_type": "code",
   "execution_count": 6,
   "metadata": {},
   "outputs": [],
   "source": [
    "# Use someone else's code to achieve their goals. (c) Unknown Programmer\n",
    "\n",
    "from IPython import display\n",
    "\n",
    "def visualize(l1,l2, h1, h2):\n",
    "    '''function from hse-class (utility 10/10)'''\n",
    "    plt.figure(figsize=(20,5)) \n",
    "    epo_range = range(1,len(h1)+1)\n",
    "    tick_range = range(1,len(h1)+1,2)\n",
    "    plt.subplot(1,2,1)\n",
    "    plt.title('Learning loss')\n",
    "    plt.plot(epo_range,l1, label='train set')\n",
    "    plt.plot(epo_range,l2, label='valid set')\n",
    "    plt.grid()\n",
    "    plt.xticks(tick_range)\n",
    "    plt.legend(title = 'Loss at:')\n",
    "    \n",
    "    plt.subplot(1,2,2)\n",
    "    plt.title('Learning accuracy')\n",
    "    plt.plot(epo_range,h1, label='train set')\n",
    "    plt.plot(epo_range,h2, label='valid set')\n",
    "    plt.grid()\n",
    "    plt.xticks(tick_range)\n",
    "    plt.ylim(0, 1.)\n",
    "    plt.legend(title = 'Accuracy at:')\n",
    "    \n",
    "    display.clear_output(wait=True)\n",
    "    plt.show()\n",
    "    \n",
    "# for branch approach (use later)\n",
    "def batches_generator(X, y, batch_size):\n",
    "    '''function from hse-class (utility 8/10)'''\n",
    "    n_batches = int(X.shape[0]/batch_size) + 1\n",
    "    for batch_idx in range(n_batches):\n",
    "        indices = (batch_idx*batch_size, min(X.shape[0], (batch_idx+1)*batch_size))\n",
    "        yield X[indices[0]:indices[1]], y[indices[0]:indices[1]]\n"
   ]
  },
  {
   "cell_type": "code",
   "execution_count": null,
   "metadata": {},
   "outputs": [],
   "source": []
  },
  {
   "cell_type": "code",
   "execution_count": 7,
   "metadata": {},
   "outputs": [
    {
     "name": "stdout",
     "output_type": "stream",
     "text": [
      "[[10  3]\n",
      " [ 8  1]]\n",
      "[[10  3]\n",
      " [ 8  1]]\n"
     ]
    }
   ],
   "source": [
    "with tf.Session():\n",
    "    a = tf.constant([[5,3],[4,1]])\n",
    "    b = tf.constant([2,1])\n",
    "    c1 = a*b\n",
    "    c2 = b*a\n",
    "    print(c1.eval())\n",
    "    print(c2.eval())"
   ]
  },
  {
   "cell_type": "code",
   "execution_count": null,
   "metadata": {},
   "outputs": [],
   "source": []
  },
  {
   "cell_type": "code",
   "execution_count": 8,
   "metadata": {},
   "outputs": [
    {
     "data": {
      "image/png": "[encoded data removed]",
      "text/plain": [
       "<Figure size 1440x360 with 2 Axes>"
      ]
     },
     "metadata": {
      "needs_background": "light"
     },
     "output_type": "display_data"
    },
    {
     "name": "stdout",
     "output_type": "stream",
     "text": [
      "Accuracy (test): 0.9629\n",
      "Model saved in path: C:\\Users\\johnwhite\\Documents\\hseML\\HSEML\\ANNet\\homework\\hw02\\tmp\\model.ckpt\n",
      "Time eval 0:00:25.053808\n"
     ]
    }
   ],
   "source": [
    "# MY SWEET BLOODY CODE\n",
    "\n",
    "# ------------------------------------------------------------------------------------------\n",
    "# MAKE GRAPH\n",
    "# ------------------------------------------------------------------------------------------\n",
    "\n",
    "# SHAPE_AND_HIDDEN_UNITS\n",
    "IN_, OUT_ = X_train.shape[1], y_train.shape[1]\n",
    "HU1, HU2 = 200, 200\n",
    "\n",
    "INPUT_ = tf.placeholder(dtype='float32',shape=( None, IN_ ))\n",
    "OUTPUT_ = tf.placeholder(dtype='float32',shape=( None, OUT_ ))\n",
    "\n",
    "# ------------------------------------------------------------------------------------------\n",
    "\n",
    "# BATCH_NORMAL_INPUT_LAYER\n",
    "SCL_0 = tf.Variable(tf.ones([IN_]))\n",
    "SHF_0 = tf.Variable(tf.zeros([IN_]))\n",
    "MOM_0 = tf.nn.moments(INPUT_, axes=[0])\n",
    "BAT_0 = SCL_0*(INPUT_ - MOM_0[0])/(tf.sqrt(MOM_0[1])+1e-8) + SHF_0\n",
    "\n",
    "# ------------------------------------------------------------------------------------------\n",
    "\n",
    "# RELU_ACTIV_LAYER_1(INPUT_LAYER)\n",
    "W1 = tf.Variable(tf.truncated_normal([ IN_, HU1 ], stddev=0.1))\n",
    "B1 = tf.Variable(tf.truncated_normal([ HU1 ], stddev=0.1))\n",
    "L1 = tf.nn.relu(tf.matmul( BAT_0 , W1 ) + B1 )\n",
    "\n",
    "# # BATCH_NORMAL_OUT_LAYER_1\n",
    "# SCL_1 = tf.Variable(tf.random_uniform([HU1]))\n",
    "# SHF_1 = tf.Variable(tf.random_uniform([HU1]))\n",
    "# MOM_1 = tf.nn.moments(L1, axes=[0])\n",
    "# BAT_1 = SCL_1*(L1 - MOM_1[0])/(tf.sqrt(MOM_1[1]) + 1e-8) + SHF_1\n",
    "\n",
    "# ------------------------------------------------------------------------------------------\n",
    "\n",
    "# RELU_ACTIV_LAYER_2(OUT_LAYER_1)\n",
    "W2 = tf.Variable(tf.truncated_normal([ HU1, HU2 ], stddev=0.1))\n",
    "B2 = tf.Variable(tf.truncated_normal([ HU2 ], stddev=0.1))\n",
    "L2 = tf.nn.relu(tf.matmul( L1, W2 ) + B2)\n",
    "\n",
    "# # BATCH_NORMAL_OUT_LAYER_2\n",
    "# SCL_2 = tf.Variable(tf.random_uniform([HU2]))\n",
    "# SHF_2 = tf.Variable(tf.random_uniform([HU2]))\n",
    "# MOM_2 = tf.nn.moments(L2, axes=[0])\n",
    "# BAT_2 = SCL_2*(L2 - MOM_2[0])/(tf.sqrt(MOM_2[1])+1e-8) + SHF_2\n",
    "\n",
    "# ------------------------------------------------------------------------------------------\n",
    "\n",
    "# SOFTMAX_ACTIV_PREDICT_LAYER(OUT_LAYER_2)\n",
    "W3 = tf.Variable(tf.truncated_normal([ HU2, OUT_ ], stddev=0.1))\n",
    "B3 = tf.Variable(tf.truncated_normal([ OUT_ ], stddev=0.1))\n",
    "L3 = tf.nn.softmax(tf.matmul( L2, W3 ) + B3)\n",
    "\n",
    "# ------------------------------------------------------------------------------------------\n",
    "\n",
    "# LOSS FUNCTION\n",
    "LOSS = tf.reduce_mean(-tf.reduce_sum(OUTPUT_*tf.log(L3+1e-8), reduction_indices=1)) \n",
    "\n",
    "# QUALITY METRICS\n",
    "PREDICT = tf.equal(tf.argmax(L3, 1), tf.argmax(OUTPUT_, 1))\n",
    "ACCURACY = tf.reduce_mean(tf.cast(PREDICT, tf.float32))\n",
    "\n",
    "# GRADIENT DESCENT (0.0005, 0.99, 0.99, 1e-6)\n",
    "OPTIMAZER = tf.train.AdamOptimizer(0.0005).minimize(LOSS, var_list=[W1, B1, W2, B2, W3, B3, \n",
    "                                                                   SCL_0, SHF_0])\n",
    "\n",
    "# SCL_0, SHF_0, SCL_1, SHF_1, SCL_2, SHF_2\n",
    "# ------------------------------------------------------------------------------------------\n",
    "## INIT SESSION\n",
    "# ------------------------------------------------------------------------------------------\n",
    "\n",
    "np.random.seed(42)   # для воспроизводимости\n",
    "\n",
    "n_epochs = 5        # число эпох для обучения \n",
    "batch_size = 128    # размер одного батча \n",
    "\n",
    "sess = tf.InteractiveSession()                 # запускаем сессию для вычислений \n",
    "sess.run(tf.global_variables_initializer())    # инициализируем переменные \n",
    "\n",
    "saver = tf.train.Saver() # ВАЖНО! Сохраним весь стафф на диск.\n",
    "\n",
    "# будем писать значения метрик в вектора \n",
    "loss_train, loss_val  = [ ], [ ] \n",
    "acc_train, acc_val = [ ], [ ]\n",
    "\n",
    "# ------------------------------------------------------------------------------------------\n",
    "## RUN GRAPH\n",
    "# ------------------------------------------------------------------------------------------\n",
    "start = datetime.datetime.now()\n",
    "\n",
    "for i in range(n_epochs):\n",
    "    \n",
    "    # сгенерировали батчи \n",
    "    batch_gen = batches_generator(X_train, y_train, batch_size)\n",
    "    \n",
    "    # пошёл цикл по батчам \n",
    "    for X_batch, y_batch in batch_gen:\n",
    "        # итерация градиентного спуска на текущем батче \n",
    "        sess.run(OPTIMAZER, {INPUT_: X_batch, OUTPUT_: y_batch})\n",
    "    \n",
    "    # посмотрим на качество модели на трэйне и валидации\n",
    "    loss_train.append(sess.run(LOSS, {INPUT_: X_train, OUTPUT_: y_train}))\n",
    "    loss_val.append(sess.run(LOSS, {INPUT_: X_val, OUTPUT_: y_val}))\n",
    "    \n",
    "    acc_train.append(sess.run(ACCURACY, {INPUT_: X_train, OUTPUT_: y_train}))\n",
    "    acc_val.append(sess.run(ACCURACY, {INPUT_: X_val, OUTPUT_: y_val}))\n",
    "    \n",
    "    # визуализируем\n",
    "    visualize(loss_train, loss_val, acc_train, acc_val) \n",
    "\n",
    "visualize(loss_train, loss_val, acc_train, acc_val) \n",
    "print(\"Accuracy (test): %s\" %sess.run(ACCURACY, {INPUT_: X_test, OUTPUT_: y_test}))\n",
    "\n",
    "from os import getcwd\n",
    "save_path = saver.save(sess, str(getcwd()) + r\"\\tmp\\model.ckpt\")\n",
    "print(\"Model saved in path: %s\" % save_path)\n",
    "\n",
    "sess.close()\n",
    "\n",
    "print ('Time eval', datetime.datetime.now() - start)"
   ]
  },
  {
   "cell_type": "code",
   "execution_count": 9,
   "metadata": {},
   "outputs": [
    {
     "name": "stdout",
     "output_type": "stream",
     "text": [
      "INFO:tensorflow:Restoring parameters from C:\\Users\\johnwhite\\Documents\\hseML\\HSEML\\ANNet\\homework\\hw02\\tmp\\model.ckpt\n",
      "Computational graph upload.\n",
      "Accuracy (test): 0.9629 (restored)\n"
     ]
    }
   ],
   "source": [
    "sess = tf.InteractiveSession() \n",
    "saver.restore(sess, str(getcwd()) + r\"\\tmp\\model.ckpt\")\n",
    "print(\"Computational graph upload.\")\n",
    "print(\"Accuracy (test): %s\" %sess.run(ACCURACY, {INPUT_: X_test, OUTPUT_: y_test}),'(restored)')\n",
    "sess.close()"
   ]
  },
  {
   "cell_type": "code",
   "execution_count": null,
   "metadata": {},
   "outputs": [],
   "source": []
  },
  {
   "cell_type": "code",
   "execution_count": null,
   "metadata": {},
   "outputs": [],
   "source": []
  },
  {
   "cell_type": "code",
   "execution_count": null,
   "metadata": {},
   "outputs": [],
   "source": []
  },
  {
   "cell_type": "code",
   "execution_count": null,
   "metadata": {},
   "outputs": [],
   "source": []
  },
  {
   "cell_type": "code",
   "execution_count": null,
   "metadata": {},
   "outputs": [],
   "source": []
  },
  {
   "cell_type": "code",
   "execution_count": null,
   "metadata": {},
   "outputs": [],
   "source": []
  },
  {
   "cell_type": "code",
   "execution_count": null,
   "metadata": {},
   "outputs": [],
   "source": []
  },
  {
   "cell_type": "code",
   "execution_count": null,
   "metadata": {},
   "outputs": [],
   "source": []
  },
  {
   "cell_type": "code",
   "execution_count": null,
   "metadata": {},
   "outputs": [],
   "source": []
  },
  {
   "cell_type": "code",
   "execution_count": null,
   "metadata": {},
   "outputs": [],
   "source": [
    "## xgboost baseline - without cv, param. opt. & etc."
   ]
  },
  {
   "cell_type": "code",
   "execution_count": null,
   "metadata": {},
   "outputs": [],
   "source": [
    "import xgboost as xgb"
   ]
  },
  {
   "cell_type": "code",
   "execution_count": null,
   "metadata": {},
   "outputs": [],
   "source": [
    "(X_dtrain, y_dtrain), (X_dtest, y_dtest) = mnist.load_data()\n",
    "\n",
    "X_dtrain = X_dtrain.reshape(-1,28*28) / 255\n",
    "X_dtest = X_dtest.reshape(-1,28*28) / 255\n",
    "\n",
    "print('X: train, test',X_dtrain.shape, X_dtest.shape,sep='\\n')\n",
    "print('y: train, test',y_dtrain.shape, y_dtest.shape,sep='\\n')"
   ]
  },
  {
   "cell_type": "code",
   "execution_count": null,
   "metadata": {},
   "outputs": [],
   "source": [
    "dtrain = xgb.DMatrix(X_dtrain, label = y_dtrain)\n",
    "dtest = xgb.DMatrix(X_dtest, label = y_dtest)"
   ]
  },
  {
   "cell_type": "code",
   "execution_count": null,
   "metadata": {},
   "outputs": [],
   "source": [
    "xgb_params = {\n",
    "    'objective': 'multi:softmax',\n",
    "    'max_depth': 3,\n",
    "    'eta': 0.5,\n",
    "    'gamma' : 0,\n",
    "    'booster': 'gbtree',\n",
    "    \n",
    "    'alpha': 1.0,\n",
    "    'lambda': 0.1,\n",
    "    \n",
    "    'subsample': 0.3,\n",
    "    'colsample_bytree': 0.3,\n",
    "    'colsample_bylevel': 1.0,\n",
    "    \n",
    "    'min_child_weight': 1,\n",
    "    'silent': 1,\n",
    "    'seed': 1,\n",
    "    'nthread': 4,\n",
    "    'eval_metric': 'mlogloss',\n",
    "    'num_class': 10    \n",
    "}\n",
    "\n",
    "num_rounds = 100"
   ]
  },
  {
   "cell_type": "code",
   "execution_count": null,
   "metadata": {},
   "outputs": [],
   "source": [
    "start = datetime.datetime.now()\n",
    "\n",
    "watchlist = [(dtrain, 'train'), (dtest, 'eval')]\n",
    "eval_res ={}\n",
    "gbdt = xgb.train(xgb_params, dtrain,\n",
    "                 num_rounds, watchlist,\n",
    "                 early_stopping_rounds=5,\n",
    "                 verbose_eval=10,\n",
    "                 evals_result=eval_res)\n",
    "\n",
    "print(datetime.datetime.now() - start)"
   ]
  },
  {
   "cell_type": "code",
   "execution_count": null,
   "metadata": {},
   "outputs": [],
   "source": [
    "print('Accuracy XGB:',np.mean(gbdt.predict(dtest) == y_dtest),'Хорошо. Можно дотюнить. Но относительно долго...')"
   ]
  },
  {
   "cell_type": "code",
   "execution_count": null,
   "metadata": {},
   "outputs": [],
   "source": []
  },
  {
   "cell_type": "code",
   "execution_count": null,
   "metadata": {},
   "outputs": [],
   "source": []
  }
 ],
 "metadata": {
  "kernelspec": {
   "display_name": "Python 3",
   "language": "python",
   "name": "python3"
  },
  "language_info": {
   "codemirror_mode": {
    "name": "ipython",
    "version": 3
   },
   "file_extension": ".py",
   "mimetype": "text/x-python",
   "name": "python",
   "nbconvert_exporter": "python",
   "pygments_lexer": "ipython3",
   "version": "3.6.6"
  },
  "widgets": {
   "application/vnd.jupyter.widget-state+json": {
    "state": {},
    "version_major": 2,
    "version_minor": 0
   }
  }
 },
 "nbformat": 4,
 "nbformat_minor": 2
}
