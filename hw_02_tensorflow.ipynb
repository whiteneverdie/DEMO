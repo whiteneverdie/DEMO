{
 "cells": [
  {
   "cell_type": "code",
   "execution_count": 59,
   "metadata": {},
   "outputs": [],
   "source": [
    "import numpy as np\n",
    "import tensorflow as tf\n",
    "\n",
    "from matplotlib import pyplot as plt\n",
    "# %pylab inline"
   ]
  },
  {
   "cell_type": "code",
   "execution_count": 60,
   "metadata": {},
   "outputs": [
    {
     "name": "stdout",
     "output_type": "stream",
     "text": [
      "/job:localhost/replica:0/task:0/device:CPU:0\n"
     ]
    }
   ],
   "source": [
    "sess = tf.InteractiveSession() \n",
    "devices = sess.list_devices()\n",
    "for d in devices:\n",
    "    print(d.name)\n",
    "sess.close()"
   ]
  },
  {
   "cell_type": "markdown",
   "metadata": {},
   "source": [
    "### Realize simple NNet with Tensorflow on MNIST dataset\n",
    "baselines:\n",
    "\n",
    "0) Custom Logistic Regressison (TF in-class) ~ 0.9086 (9%)\n",
    "\n",
    "Need to achived:  Accuracy 0.9840 (Error Rate 1,6%)\n",
    "\n",
    "http://yann.lecun.com/exdb/mnist/\n",
    "\n",
    "1) 2-layer NN, 300 HU, 1998, Y. LeCun\n",
    "\n",
    "2) 2-layer NN, 800 HU, 2003, P. Simard\n"
   ]
  },
  {
   "cell_type": "code",
   "execution_count": 70,
   "metadata": {},
   "outputs": [],
   "source": [
    "from tensorflow.keras.datasets import mnist\n",
    "\n",
    "def load_dataset(val_prop = 1/6, normalize = True, flatten = False):\n",
    "    '''function from hse-class (utility 7/10) - extended'''\n",
    "    (X_train, y_train), (X_test, y_test) = mnist.load_data()\n",
    "\n",
    "    # normalize input matrix\n",
    "    if normalize:\n",
    "        X_train = X_train.astype(float) / 255.\n",
    "        X_test = X_test.astype(float) / 255.\n",
    "\n",
    "    # train-validation partitioning\n",
    "    PROP_VALUE = int(round(X_train.shape[0]*val_prop,0))\n",
    "    X_train, X_val = X_train[:-PROP_VALUE], X_train[-PROP_VALUE:]\n",
    "    \n",
    "    # make OHE-trasformation for target\n",
    "    def np_ohe(x, uniq):\n",
    "        return np.array([(x == i)*1 for i in uniq]).T\n",
    "    \n",
    "    y_train = np_ohe(y_train, np.unique(y_train).tolist())\n",
    "    y_train, y_val = y_train[:-PROP_VALUE], y_train[-PROP_VALUE:]\n",
    "    y_test = np_ohe(y_test, np.unique(y_test).tolist())\n",
    "    \n",
    "    if flatten: \n",
    "        X_train = X_train.reshape(-1,28**2)\n",
    "        X_val = X_val.reshape(-1,28**2)\n",
    "        X_test = X_test.reshape(-1,28**2)\n",
    "    \n",
    "    return X_train, y_train, X_val, y_val, X_test, y_test\n",
    "\n",
    "X_train, y_train, X_val, y_val, X_test, y_test = load_dataset(flatten = True)"
   ]
  },
  {
   "cell_type": "code",
   "execution_count": 72,
   "metadata": {},
   "outputs": [
    {
     "name": "stdout",
     "output_type": "stream",
     "text": [
      "X: train, val, test\n",
      "(50000, 784)\n",
      "(10000, 784)\n",
      "(10000, 784)\n",
      "y: train, val, test\n",
      "(50000, 10)\n",
      "(10000, 10)\n",
      "(10000, 10)\n"
     ]
    }
   ],
   "source": [
    "print('X: train, val, test',X_train.shape,X_val.shape,X_test.shape,sep='\\n')\n",
    "print('y: train, val, test',y_train.shape,y_val.shape,y_test.shape,sep='\\n')"
   ]
  },
  {
   "cell_type": "code",
   "execution_count": 73,
   "metadata": {},
   "outputs": [
    {
     "name": "stdout",
     "output_type": "stream",
     "text": [
      "Number: 5\n"
     ]
    },
    {
     "data": {
      "image/png": "[encoded data removed]",
      "text/plain": [
       "<Figure size 432x288 with 1 Axes>"
      ]
     },
     "metadata": {
      "needs_background": "light"
     },
     "output_type": "display_data"
    }
   ],
   "source": [
    "print('Number:',np.argmax(y_train[0]))\n",
    "plt.imshow(X_train[0].reshape(28,28), cmap='PuBu');"
   ]
  },
  {
   "cell_type": "code",
   "execution_count": 76,
   "metadata": {},
   "outputs": [],
   "source": [
    "# NOTES (How to make custom layers - maybe way)\n",
    "\n",
    "# # \n",
    "# def fullyconnected_layer(x, input_size, out_size):\n",
    "#     W = tf.Variable(tf.truncated_normal([input_size, out_size], stddev=0.1))\n",
    "#     b = tf.Variable(tf.truncated_normal([out_size], stddev=0.1))\n",
    "#     return tf.nn.relu(tf.matmul(x,W) + b)\n",
    "# # \n",
    "# def softmax_layer(x, input_size, out_size):\n",
    "#     W = tf.Variable(tf.truncated_normal([input_size, out_size], stddev=0.1))\n",
    "#     b = tf.Variable(tf.truncated_normal([out_size], stddev=0.1))\n",
    "#     return tf.nn.softmax(tf.matmul(x,W) + b)\n",
    "# # "
   ]
  },
  {
   "cell_type": "markdown",
   "metadata": {},
   "source": [
    "..."
   ]
  },
  {
   "cell_type": "code",
   "execution_count": 82,
   "metadata": {},
   "outputs": [],
   "source": [
    "# Use someone else's code to achieve their goals. (c) Unknown Programmer\n",
    "\n",
    "from IPython import display\n",
    "\n",
    "def visualize(l1,l2, h1, h2):\n",
    "    '''function from hse-class (utility 10/10)'''\n",
    "    plt.figure(figsize=(20,5)) \n",
    "    epo_range = range(1,len(h1)+1)\n",
    "    tick_range = range(1,len(h1)+1,2)\n",
    "    plt.subplot(1,2,1)\n",
    "    plt.title('Learning loss')\n",
    "    plt.plot(epo_range,l1, label='train set')\n",
    "    plt.plot(epo_range,l2, label='valid set')\n",
    "    plt.grid()\n",
    "    plt.xticks(tick_range)\n",
    "    plt.legend(title = 'Loss at:')\n",
    "    \n",
    "    plt.subplot(1,2,2)\n",
    "    plt.title('Learning accuracy')\n",
    "    plt.plot(epo_range,h1, label='train set')\n",
    "    plt.plot(epo_range,h2, label='valid set')\n",
    "    plt.grid()\n",
    "    plt.xticks(tick_range)\n",
    "    plt.ylim(0, 1.)\n",
    "    plt.legend(title = 'Accuracy at:')\n",
    "    \n",
    "    display.clear_output(wait=True)\n",
    "    plt.show()\n",
    "    \n",
    "# for branch approach (use later)\n",
    "def batches_generator(X, y, batch_size):\n",
    "    '''function from hse-class (utility 8/10)'''\n",
    "    n_batches = int(X.shape[0]/batch_size) + 1\n",
    "    for batch_idx in range(n_batches):\n",
    "        indices = (batch_idx*batch_size, min(X.shape[0], (batch_idx+1)*batch_size))\n",
    "        yield X[indices[0]:indices[1]], y[indices[0]:indices[1]]\n"
   ]
  },
  {
   "cell_type": "code",
   "execution_count": 121,
   "metadata": {},
   "outputs": [
    {
     "data": {
      "image/png": "[encoded data removed]",
      "text/plain": [
       "<Figure size 1440x360 with 2 Axes>"
      ]
     },
     "metadata": {
      "needs_background": "light"
     },
     "output_type": "display_data"
    },
    {
     "name": "stdout",
     "output_type": "stream",
     "text": [
      "Accuracy (test): 0.977\n",
      "Model saved in path: /tmp/model.ckpt\n"
     ]
    }
   ],
   "source": [
    "# MY SWEET BLOODY CODE\n",
    "\n",
    "# ------------------------------------------------------------------------------------------\n",
    "# MAKE GRAPH\n",
    "# ------------------------------------------------------------------------------------------\n",
    "\n",
    "# INPUT / OUTPUT DATA\n",
    "input_0, output_1 = X_train.shape, y_train.shape\n",
    "\n",
    "input_X = tf.placeholder(dtype='float32',shape=(None, input_0[1]))\n",
    "input_y = tf.placeholder(dtype='float32',shape=(None, output_1[1]))\n",
    "\n",
    "\n",
    "# 2-L-nnet structure (first N equal input, 1 hidden, N_hidden = 300)\n",
    "L1_in, L1_out = input_0[1], 300\n",
    "L2_in, L2_out = L1_out, output_1[1]\n",
    "\n",
    "W1 = tf.Variable(tf.truncated_normal([L1_in, L1_out], stddev=0.1))\n",
    "b1 = tf.Variable(tf.truncated_normal([L1_out], stddev=0.1))\n",
    "A1 = tf.nn.relu(tf.matmul(input_X,W1) + b1)\n",
    "\n",
    "W2 = tf.Variable(tf.truncated_normal([L2_in, L2_out], stddev=0.1))\n",
    "b2 = tf.Variable(tf.truncated_normal([L2_out], stddev=0.1))\n",
    "A2 = tf.nn.softmax(tf.matmul(A1,W2) + b2)\n",
    "\n",
    "# loss function\n",
    "# loss = tf.losses.softmax_cross_entropy(input_y, A2)\n",
    "loss = tf.reduce_mean(-tf.reduce_sum(input_y*tf.log(A2), reduction_indices=1)) \n",
    "\n",
    "\n",
    "# quality metrics\n",
    "correct_prediction = tf.equal(tf.argmax(A2, 1), tf.argmax(input_y, 1))\n",
    "accuracy = tf.reduce_mean(tf.cast(correct_prediction, tf.float32))\n",
    "\n",
    "# gradient descent \n",
    "optimizer = tf.train.AdamOptimizer(0.0005, 0.99, 0.99, 1e-6).minimize(loss, var_list=[W1, b1, W2, b2])\n",
    "\n",
    "\n",
    "# ------------------------------------------------------------------------------------------\n",
    "## INIT SESSION\n",
    "# ------------------------------------------------------------------------------------------\n",
    "\n",
    "np.random.seed(42)   # для воспроизводимости\n",
    "\n",
    "n_epochs = 20        # число эпох для обучения \n",
    "batch_size = 512     # размер одного батча \n",
    "\n",
    "sess = tf.InteractiveSession()                 # запускаем сессию для вычислений \n",
    "sess.run(tf.global_variables_initializer())    # инициализируем переменные \n",
    "\n",
    "saver = tf.train.Saver() # ВАЖНО! Сохраним весь стафф на диск.\n",
    "\n",
    "# будем писать значения метрик в вектора \n",
    "loss_train, loss_val  = [ ], [ ] \n",
    "acc_train, acc_val = [ ], [ ]\n",
    "\n",
    "\n",
    "# ------------------------------------------------------------------------------------------\n",
    "## RUN GRAPH\n",
    "# ------------------------------------------------------------------------------------------\n",
    "\n",
    "for i in range(n_epochs):\n",
    "    \n",
    "    # сгенерировали батчи \n",
    "    batch_gen = batches_generator(X_train, y_train, batch_size)\n",
    "    \n",
    "    # пошёл цикл по батчам \n",
    "    for X_batch, y_batch in batch_gen:\n",
    "        # итерация градиентного спуска на текущем батче \n",
    "        sess.run(optimizer, {input_X: X_batch, input_y: y_batch})\n",
    "    \n",
    "    # посмотрим на качество модели на трэйне и валидации\n",
    "    loss_train.append(sess.run(loss, {input_X: X_train, input_y: y_train}))\n",
    "    loss_val.append(sess.run(loss, {input_X: X_val, input_y: y_val}))\n",
    "    \n",
    "    acc_train.append(sess.run(accuracy, {input_X: X_train, input_y: y_train}))\n",
    "    acc_val.append(sess.run(accuracy, {input_X: X_val, input_y: y_val}))\n",
    "    \n",
    "    # визуализируем\n",
    "    visualize(loss_train, loss_val, acc_train, acc_val) \n",
    "\n",
    "print(\"Accuracy (test): %s\" %sess.run(accuracy, {input_X: X_test, input_y: y_test}))\n",
    "\n",
    "save_path = saver.save(sess, \"/tmp/model.ckpt\")\n",
    "print(\"Model saved in path: %s\" % save_path)\n",
    "\n",
    "sess.close()"
   ]
  },
  {
   "cell_type": "code",
   "execution_count": null,
   "metadata": {},
   "outputs": [],
   "source": [
    "## Лучшее - враг хорошего. Остановимся на этом. Дело за фитом гиперпараметров, а именно настройке оптимайзера"
   ]
  },
  {
   "cell_type": "code",
   "execution_count": 122,
   "metadata": {},
   "outputs": [
    {
     "name": "stdout",
     "output_type": "stream",
     "text": [
      "INFO:tensorflow:Restoring parameters from /tmp/model.ckpt\n",
      "Model restored.\n"
     ]
    }
   ],
   "source": [
    "sess = tf.InteractiveSession() \n",
    "saver.restore(sess, \"/tmp/model.ckpt\")\n",
    "print(\"Model restored.\")"
   ]
  },
  {
   "cell_type": "code",
   "execution_count": 123,
   "metadata": {},
   "outputs": [
    {
     "name": "stdout",
     "output_type": "stream",
     "text": [
      "Accuracy (test): 0.977 (restored)\n"
     ]
    }
   ],
   "source": [
    "print(\"Accuracy (test): %s\" %sess.run(accuracy, {input_X: X_test, input_y: y_test}),'(restored)')"
   ]
  },
  {
   "cell_type": "code",
   "execution_count": 124,
   "metadata": {},
   "outputs": [],
   "source": [
    "sess.close()"
   ]
  },
  {
   "cell_type": "code",
   "execution_count": null,
   "metadata": {},
   "outputs": [],
   "source": []
  }
 ],
 "metadata": {
  "kernelspec": {
   "display_name": "Python 3",
   "language": "python",
   "name": "python3"
  },
  "language_info": {
   "codemirror_mode": {
    "name": "ipython",
    "version": 3
   },
   "file_extension": ".py",
   "mimetype": "text/x-python",
   "name": "python",
   "nbconvert_exporter": "python",
   "pygments_lexer": "ipython3",
   "version": "3.6.6"
  },
  "widgets": {
   "application/vnd.jupyter.widget-state+json": {
    "state": {},
    "version_major": 2,
    "version_minor": 0
   }
  }
 },
 "nbformat": 4,
 "nbformat_minor": 2
}
