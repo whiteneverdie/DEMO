{
 "cells": [
  {
   "cell_type": "code",
   "execution_count": 1,
   "metadata": {
    "colab": {
     "base_uri": "https://localhost:8080/",
     "height": 92
    },
    "colab_type": "code",
    "id": "kYG_v5ioN4Gi",
    "outputId": "bad51fcb-0d03-46c8-cd24-7c44cc69eb7a"
   },
   "outputs": [
    {
     "name": "stdout",
     "output_type": "stream",
     "text": [
      "WARNING:tensorflow:From /usr/local/lib/python3.6/dist-packages/tensorflow/python/framework/op_def_library.py:263: colocate_with (from tensorflow.python.framework.ops) is deprecated and will be removed in a future version.\n",
      "Instructions for updating:\n",
      "Colocations handled automatically by placer.\n"
     ]
    }
   ],
   "source": [
    "import numpy as np\n",
    "\n",
    "arr = np.array([1,2,3,4,5,5,5,8,2,1,77]*1000000)\n",
    "uniq = np.unique(arr).tolist()\n",
    "\n",
    "def numpy_ohe(x,unique_list):\n",
    "    return np.array([(x == i)*1 for i in unique_list]).T\n",
    "\n",
    "import tensorflow as tf\n",
    "from tensorflow import one_hot as tensor_ohe\n",
    "\n",
    "\n",
    "# тензор - константа\n",
    "tf_arr = tf.constant(arr)\n",
    "tf_uniq = tf.constant(len(uniq))\n",
    "\n",
    "\n",
    "# тензор - переменная\n",
    "tf_v_arr = tf.Variable(arr)\n",
    "tf_v_uniq = tf.Variable(uniq)\n",
    "\n",
    "# тензор - плейсхолдеры\n",
    "tf_ph_arr = tf.placeholder(dtype='int32', shape=arr.shape)\n",
    "tf_ph_uniq = tf.placeholder(dtype='int32', shape=())\n",
    "tf_ph_ohe = tensor_ohe(tf_ph_arr, tf_ph_uniq)"
   ]
  },
  {
   "cell_type": "code",
   "execution_count": 0,
   "metadata": {
    "colab": {},
    "colab_type": "code",
    "id": "HG9smouYu6d5"
   },
   "outputs": [],
   "source": [
    "# начинаем сессию\n",
    "sess = tf.InteractiveSession()"
   ]
  },
  {
   "cell_type": "code",
   "execution_count": 0,
   "metadata": {
    "colab": {},
    "colab_type": "code",
    "id": "iGQiufYouXCc"
   },
   "outputs": [],
   "source": [
    "# инициализируем переменные\n",
    "sess.run(tf.global_variables_initializer())"
   ]
  },
  {
   "cell_type": "markdown",
   "metadata": {
    "colab_type": "text",
    "id": "43gEK3M2Pj8p"
   },
   "source": [
    "Runtime type: **None**"
   ]
  },
  {
   "cell_type": "code",
   "execution_count": 4,
   "metadata": {
    "colab": {
     "base_uri": "https://localhost:8080/",
     "height": 35
    },
    "colab_type": "code",
    "id": "LjvtyTOLYuEV",
    "outputId": "64d3477e-7db3-43b7-be6f-abc319373520"
   },
   "outputs": [
    {
     "name": "stdout",
     "output_type": "stream",
     "text": [
      "1 loop, best of 3: 1.33 s per loop\n"
     ]
    }
   ],
   "source": [
    "## передаем тензор с использованием плейсхолдера\n",
    "%%timeit\n",
    "tf_ph_ohe.eval({tf_ph_arr: arr, tf_ph_uniq: len(uniq)})"
   ]
  },
  {
   "cell_type": "code",
   "execution_count": 5,
   "metadata": {
    "colab": {
     "base_uri": "https://localhost:8080/",
     "height": 35
    },
    "colab_type": "code",
    "id": "zobhZzZaPkQm",
    "outputId": "9ea15f45-dec0-4d90-fab0-ca5469ab6aae"
   },
   "outputs": [
    {
     "name": "stdout",
     "output_type": "stream",
     "text": [
      "1 loop, best of 3: 191 ms per loop\n"
     ]
    }
   ],
   "source": [
    "## передаем тензор типа variable с предварительной инициализацией\n",
    "%%timeit\n",
    "tensor_ohe(tf_v_arr, tf_v_uniq[0]).eval()"
   ]
  },
  {
   "cell_type": "code",
   "execution_count": 6,
   "metadata": {
    "colab": {
     "base_uri": "https://localhost:8080/",
     "height": 35
    },
    "colab_type": "code",
    "id": "AODZQPh4or2S",
    "outputId": "0ff040d1-849a-49c9-df44-822e4eff03e9"
   },
   "outputs": [
    {
     "name": "stdout",
     "output_type": "stream",
     "text": [
      "1 loop, best of 3: 3.31 s per loop\n"
     ]
    }
   ],
   "source": [
    "## передаем тензор типа constant\n",
    "%%timeit\n",
    "tensor_ohe(tf_arr, tf_uniq).eval()"
   ]
  },
  {
   "cell_type": "markdown",
   "metadata": {
    "colab_type": "text",
    "id": "GdJnE1K_O8Ul"
   },
   "source": [
    "Runtime type: **GPU**"
   ]
  },
  {
   "cell_type": "code",
   "execution_count": 13,
   "metadata": {
    "colab": {
     "base_uri": "https://localhost:8080/",
     "height": 35
    },
    "colab_type": "code",
    "id": "Ie0flu3fZKUo",
    "outputId": "ffe6875b-b14c-430f-84cc-21aed0295627"
   },
   "outputs": [
    {
     "name": "stdout",
     "output_type": "stream",
     "text": [
      "10 loops, best of 3: 63.7 ms per loop\n"
     ]
    }
   ],
   "source": [
    "## передаем тензор с использованием плейсхолдера\n",
    "%%timeit\n",
    "tf_ph_ohe.eval({tf_ph_arr: arr, tf_ph_uniq: len(uniq)})"
   ]
  },
  {
   "cell_type": "code",
   "execution_count": 14,
   "metadata": {
    "colab": {
     "base_uri": "https://localhost:8080/",
     "height": 35
    },
    "colab_type": "code",
    "id": "hwPUAQDpOP0p",
    "outputId": "2016fa1d-1755-46f9-9a18-4eca14f690ea"
   },
   "outputs": [
    {
     "name": "stdout",
     "output_type": "stream",
     "text": [
      "10 loops, best of 3: 49.9 ms per loop\n"
     ]
    }
   ],
   "source": [
    "## передаем тензор типа variable с предварительной инициализацией\n",
    "%%timeit\n",
    "tensor_ohe(tf_v_arr, tf_v_uniq[0]).eval()"
   ]
  },
  {
   "cell_type": "code",
   "execution_count": 15,
   "metadata": {
    "colab": {
     "base_uri": "https://localhost:8080/",
     "height": 35
    },
    "colab_type": "code",
    "id": "5zJMp1--r6Pr",
    "outputId": "ef702a58-a15d-4d8d-add9-0a4dede12d62"
   },
   "outputs": [
    {
     "name": "stdout",
     "output_type": "stream",
     "text": [
      "1 loop, best of 3: 1.99 s per loop\n"
     ]
    }
   ],
   "source": [
    "## передаем тензор типа constant\n",
    "%%timeit\n",
    "tensor_ohe(tf_arr, tf_uniq).eval()"
   ]
  },
  {
   "cell_type": "code",
   "execution_count": 0,
   "metadata": {
    "colab": {},
    "colab_type": "code",
    "id": "2Dn1d86DoXOc"
   },
   "outputs": [],
   "source": [
    "sess.close()"
   ]
  },
  {
   "cell_type": "markdown",
   "metadata": {
    "colab_type": "text",
    "id": "SoZtDmSFR_H6"
   },
   "source": [
    "Run numpy function on GPU"
   ]
  },
  {
   "cell_type": "code",
   "execution_count": 17,
   "metadata": {
    "colab": {
     "base_uri": "https://localhost:8080/",
     "height": 35
    },
    "colab_type": "code",
    "id": "baMRm7wuR6ZE",
    "outputId": "413a0094-c636-48fe-8fd2-b3e196afc63b"
   },
   "outputs": [
    {
     "name": "stdout",
     "output_type": "stream",
     "text": [
      "1 loop, best of 3: 407 ms per loop\n"
     ]
    }
   ],
   "source": [
    "%%timeit\n",
    "numpy_ohe(arr,uniq)"
   ]
  },
  {
   "cell_type": "code",
   "execution_count": 0,
   "metadata": {
    "colab": {},
    "colab_type": "code",
    "id": "J6dJmfQzbLNq"
   },
   "outputs": [],
   "source": []
  }
 ],
 "metadata": {
  "colab": {
   "collapsed_sections": [],
   "name": "Collab_tensorflow_1st_steps.ipynb",
   "provenance": [],
   "version": "0.3.2"
  },
  "kernelspec": {
   "display_name": "Python 3",
   "language": "python",
   "name": "python3"
  },
  "language_info": {
   "codemirror_mode": {
    "name": "ipython",
    "version": 3
   },
   "file_extension": ".py",
   "mimetype": "text/x-python",
   "name": "python",
   "nbconvert_exporter": "python",
   "pygments_lexer": "ipython3",
   "version": "3.6.6"
  }
 },
 "nbformat": 4,
 "nbformat_minor": 1
}
