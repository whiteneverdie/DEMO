{
 "cells": [
  {
   "cell_type": "code",
   "execution_count": 1,
   "id": "f6dcfeda-43ef-4635-a25d-77ce4f19e567",
   "metadata": {},
   "outputs": [],
   "source": [
    "# !pip install networkx\n",
    "# !pip install matplotlib"
   ]
  },
  {
   "cell_type": "code",
   "execution_count": 2,
   "metadata": {},
   "outputs": [],
   "source": [
    "# import os\n",
    "# os.environ['SPARK_LOCAL_IP'] = '127.0.0.1'"
   ]
  },
  {
   "cell_type": "code",
   "execution_count": 3,
   "id": "1c847df3-0775-48ed-97d6-172a975bf305",
   "metadata": {},
   "outputs": [],
   "source": [
    "import pandas as pd\n",
    "import numpy as np\n",
    "from matplotlib import pyplot as plt\n",
    "\n",
    "import networkx as nx\n",
    "\n",
    "#import pyspark\n",
    "from pyspark.sql import SparkSession\n",
    "from pyspark.sql import functions as F\n"
   ]
  },
  {
   "cell_type": "code",
   "execution_count": 5,
   "id": "e47f57cc-e300-48b9-ad55-bb8f56b7b8bc",
   "metadata": {},
   "outputs": [],
   "source": [
    "spark = SparkSession.builder.getOrCreate()"
   ]
  },
  {
   "cell_type": "code",
   "execution_count": 5,
   "id": "ef3508e6",
   "metadata": {},
   "outputs": [
    {
     "data": {
      "text/html": [
       "\n",
       "            <div>\n",
       "                <p><b>SparkSession - in-memory</b></p>\n",
       "                \n",
       "        <div>\n",
       "            <p><b>SparkContext</b></p>\n",
       "\n",
       "            <p><a href=\"http://172.31.131.121:4041\">Spark UI</a></p>\n",
       "\n",
       "            <dl>\n",
       "              <dt>Version</dt>\n",
       "                <dd><code>v3.1.2</code></dd>\n",
       "              <dt>Master</dt>\n",
       "                <dd><code>local[*]</code></dd>\n",
       "              <dt>AppName</dt>\n",
       "                <dd><code>pyspark-shell</code></dd>\n",
       "            </dl>\n",
       "        </div>\n",
       "        \n",
       "            </div>\n",
       "        "
      ],
      "text/plain": [
       "<pyspark.sql.session.SparkSession at 0x7f98ec8c7b50>"
      ]
     },
     "execution_count": 5,
     "metadata": {},
     "output_type": "execute_result"
    }
   ],
   "source": [
    "spark"
   ]
  },
  {
   "cell_type": "code",
   "execution_count": 6,
   "id": "9a9494d9-f9c9-46b8-9df2-0ae373c87af7",
   "metadata": {},
   "outputs": [],
   "source": [
    "# readme = !cat data/students/readme.txt\n",
    "# print('\\n'.join(readme).replace('�',''))"
   ]
  },
  {
   "cell_type": "code",
   "execution_count": 7,
   "id": "cc556e5c-b602-4722-8972-dc66a6cbd1c8",
   "metadata": {},
   "outputs": [
    {
     "name": "stdout",
     "output_type": "stream",
     "text": [
      "(360, 3)\n"
     ]
    },
    {
     "data": {
      "text/html": [
       "<div>\n",
       "<style scoped>\n",
       "    .dataframe tbody tr th:only-of-type {\n",
       "        vertical-align: middle;\n",
       "    }\n",
       "\n",
       "    .dataframe tbody tr th {\n",
       "        vertical-align: top;\n",
       "    }\n",
       "\n",
       "    .dataframe thead th {\n",
       "        text-align: right;\n",
       "    }\n",
       "</style>\n",
       "<table border=\"1\" class=\"dataframe\">\n",
       "  <thead>\n",
       "    <tr style=\"text-align: right;\">\n",
       "      <th></th>\n",
       "      <th>source</th>\n",
       "      <th>target</th>\n",
       "      <th>type</th>\n",
       "    </tr>\n",
       "  </thead>\n",
       "  <tbody>\n",
       "    <tr>\n",
       "      <th>0</th>\n",
       "      <td>1</td>\n",
       "      <td>81</td>\n",
       "      <td>Partners</td>\n",
       "    </tr>\n",
       "    <tr>\n",
       "      <th>1</th>\n",
       "      <td>1</td>\n",
       "      <td>81</td>\n",
       "      <td>Time</td>\n",
       "    </tr>\n",
       "    <tr>\n",
       "      <th>2</th>\n",
       "      <td>2</td>\n",
       "      <td>27</td>\n",
       "      <td>Time</td>\n",
       "    </tr>\n",
       "    <tr>\n",
       "      <th>3</th>\n",
       "      <td>2</td>\n",
       "      <td>136</td>\n",
       "      <td>Time</td>\n",
       "    </tr>\n",
       "    <tr>\n",
       "      <th>4</th>\n",
       "      <td>2</td>\n",
       "      <td>129</td>\n",
       "      <td>Partners</td>\n",
       "    </tr>\n",
       "  </tbody>\n",
       "</table>\n",
       "</div>"
      ],
      "text/plain": [
       "   source  target      type\n",
       "0       1      81  Partners\n",
       "1       1      81      Time\n",
       "2       2      27      Time\n",
       "3       2     136      Time\n",
       "4       2     129  Partners"
      ]
     },
     "execution_count": 7,
     "metadata": {},
     "output_type": "execute_result"
    }
   ],
   "source": [
    "edgesDF = pd.read_csv('data/students/multigraph_hashAnonymized.csv',header=0, names=['source', 'target', 'type'])\n",
    "print(edgesDF.shape)\n",
    "edgesDF.head()"
   ]
  },
  {
   "cell_type": "code",
   "execution_count": 8,
   "id": "d882d018",
   "metadata": {},
   "outputs": [
    {
     "data": {
      "text/html": [
       "<div>\n",
       "<style scoped>\n",
       "    .dataframe tbody tr th:only-of-type {\n",
       "        vertical-align: middle;\n",
       "    }\n",
       "\n",
       "    .dataframe tbody tr th {\n",
       "        vertical-align: top;\n",
       "    }\n",
       "\n",
       "    .dataframe thead th {\n",
       "        text-align: right;\n",
       "    }\n",
       "</style>\n",
       "<table border=\"1\" class=\"dataframe\">\n",
       "  <thead>\n",
       "    <tr style=\"text-align: right;\">\n",
       "      <th></th>\n",
       "      <th>source</th>\n",
       "      <th>target</th>\n",
       "      <th>type</th>\n",
       "    </tr>\n",
       "  </thead>\n",
       "  <tbody>\n",
       "    <tr>\n",
       "      <th>44</th>\n",
       "      <td>13</td>\n",
       "      <td>27</td>\n",
       "      <td>Partners</td>\n",
       "    </tr>\n",
       "    <tr>\n",
       "      <th>45</th>\n",
       "      <td>13</td>\n",
       "      <td>27</td>\n",
       "      <td>Computer</td>\n",
       "    </tr>\n",
       "    <tr>\n",
       "      <th>46</th>\n",
       "      <td>13</td>\n",
       "      <td>27</td>\n",
       "      <td>Time</td>\n",
       "    </tr>\n",
       "  </tbody>\n",
       "</table>\n",
       "</div>"
      ],
      "text/plain": [
       "    source  target      type\n",
       "44      13      27  Partners\n",
       "45      13      27  Computer\n",
       "46      13      27      Time"
      ]
     },
     "execution_count": 8,
     "metadata": {},
     "output_type": "execute_result"
    }
   ],
   "source": [
    "## WARN: Duplicates detected!!!\n",
    "\n",
    "edgesDF[(edgesDF.source == 13) & (edgesDF.target == 27)]"
   ]
  },
  {
   "cell_type": "code",
   "execution_count": 9,
   "id": "6dc75e30",
   "metadata": {},
   "outputs": [],
   "source": [
    "edgesDF = edgesDF[['source', 'target']].drop_duplicates()"
   ]
  },
  {
   "cell_type": "code",
   "execution_count": 10,
   "id": "480e7072-3d65-44db-8339-639bb6bf6cce",
   "metadata": {},
   "outputs": [
    {
     "name": "stdout",
     "output_type": "stream",
     "text": [
      "(185, 2)\n"
     ]
    },
    {
     "data": {
      "text/html": [
       "<div>\n",
       "<style scoped>\n",
       "    .dataframe tbody tr th:only-of-type {\n",
       "        vertical-align: middle;\n",
       "    }\n",
       "\n",
       "    .dataframe tbody tr th {\n",
       "        vertical-align: top;\n",
       "    }\n",
       "\n",
       "    .dataframe thead th {\n",
       "        text-align: right;\n",
       "    }\n",
       "</style>\n",
       "<table border=\"1\" class=\"dataframe\">\n",
       "  <thead>\n",
       "    <tr style=\"text-align: right;\">\n",
       "      <th></th>\n",
       "      <th>name</th>\n",
       "      <th>freq</th>\n",
       "    </tr>\n",
       "  </thead>\n",
       "  <tbody>\n",
       "    <tr>\n",
       "      <th>0</th>\n",
       "      <td>1</td>\n",
       "      <td>1</td>\n",
       "    </tr>\n",
       "    <tr>\n",
       "      <th>1</th>\n",
       "      <td>2</td>\n",
       "      <td>4</td>\n",
       "    </tr>\n",
       "    <tr>\n",
       "      <th>2</th>\n",
       "      <td>3</td>\n",
       "      <td>3</td>\n",
       "    </tr>\n",
       "    <tr>\n",
       "      <th>3</th>\n",
       "      <td>4</td>\n",
       "      <td>3</td>\n",
       "    </tr>\n",
       "    <tr>\n",
       "      <th>4</th>\n",
       "      <td>5</td>\n",
       "      <td>4</td>\n",
       "    </tr>\n",
       "  </tbody>\n",
       "</table>\n",
       "</div>"
      ],
      "text/plain": [
       "   name  freq\n",
       "0     1     1\n",
       "1     2     4\n",
       "2     3     3\n",
       "3     4     3\n",
       "4     5     4"
      ]
     },
     "execution_count": 10,
     "metadata": {},
     "output_type": "execute_result"
    }
   ],
   "source": [
    "name, freq = np.unique(edgesDF.values.flatten(), return_counts=True)\n",
    "nodesDF = pd.DataFrame({'name': name, 'freq': freq})\n",
    "print(nodesDF.shape)\n",
    "nodesDF.head()"
   ]
  },
  {
   "cell_type": "code",
   "execution_count": 11,
   "id": "795d365b-8f44-4a93-8e2c-0e034c76368f",
   "metadata": {},
   "outputs": [
    {
     "name": "stdout",
     "output_type": "stream",
     "text": [
      "Number of nodes in DiGraph: 185\n"
     ]
    }
   ],
   "source": [
    "G = nx.DiGraph()\n",
    "G.add_edges_from(edgesDF[['source', 'target']].values.tolist())\n",
    "print('Number of nodes in DiGraph: {}'.format(G.number_of_nodes()))"
   ]
  },
  {
   "cell_type": "code",
   "execution_count": 12,
   "id": "87e0eccf-6798-4cb9-81de-f57785a4bb4f",
   "metadata": {},
   "outputs": [
    {
     "data": {
      "text/plain": [
       "[2, 27, 30, 31, 117, 118, 163, 173]"
      ]
     },
     "execution_count": 12,
     "metadata": {},
     "output_type": "execute_result"
    }
   ],
   "source": [
    "## SUBSET OF NODES\n",
    "\n",
    "longest_list = nx.dag_longest_path(G)\n",
    "longest_list\n"
   ]
  },
  {
   "cell_type": "code",
   "execution_count": 13,
   "id": "14f22542-ceb5-4183-ad0e-27f1f9636be1",
   "metadata": {},
   "outputs": [
    {
     "data": {
      "text/plain": [
       "[2, 27, 30, 117, 118, 173]"
      ]
     },
     "execution_count": 13,
     "metadata": {},
     "output_type": "execute_result"
    }
   ],
   "source": [
    "## CHECK ANSWER\n",
    "\n",
    "nx.shortest_path(G, source=longest_list[0], target=longest_list[-1])"
   ]
  },
  {
   "cell_type": "code",
   "execution_count": 32,
   "id": "6f548260-2e7e-43e9-9553-24b538993c0f",
   "metadata": {},
   "outputs": [
    {
     "data": {
      "image/png": "[encoded data removed]",
      "text/plain": [
       "<Figure size 1080x576 with 1 Axes>"
      ]
     },
     "metadata": {},
     "output_type": "display_data"
    }
   ],
   "source": [
    "G_filtered = nx.subgraph_view(G, filter_node=lambda x: x in longest_list)\n",
    "\n",
    "fig, ax = plt.subplots(figsize=(15, 8))\n",
    "node_sizes = [1000]* len(G_filtered.nodes)\n",
    "nx.draw_spring(G_filtered, with_labels = True, node_size=node_sizes)"
   ]
  },
  {
   "cell_type": "markdown",
   "metadata": {},
   "source": [
    "#### PYSPARK PART"
   ]
  },
  {
   "cell_type": "code",
   "execution_count": 15,
   "id": "50a4af22-6bfa-41d1-a2e8-0ecf1e457387",
   "metadata": {},
   "outputs": [
    {
     "name": "stdout",
     "output_type": "stream",
     "text": [
      "+------+------+\n",
      "|source|target|\n",
      "+------+------+\n",
      "|     1|    81|\n",
      "|     2|    27|\n",
      "|     2|   136|\n",
      "|     2|   129|\n",
      "|     2|    45|\n",
      "+------+------+\n",
      "only showing top 5 rows\n",
      "\n"
     ]
    },
    {
     "name": "stderr",
     "output_type": "stream",
     "text": []
    }
   ],
   "source": [
    "edges = spark.createDataFrame(edgesDF)\n",
    "edges.show(5)"
   ]
  },
  {
   "cell_type": "code",
   "execution_count": 16,
   "id": "69d7b3e2-6823-43f9-b99e-0086621e8bc4",
   "metadata": {},
   "outputs": [],
   "source": [
    "# nodes = spark.createDataFrame(nodesDF)\n",
    "# nodes.show(5)"
   ]
  },
  {
   "cell_type": "markdown",
   "id": "f234eb50",
   "metadata": {},
   "source": [
    "#### COPYPASTE\n",
    "https://dwgeek.com/spark-sql-recursive-dataframe-pyspark-and-scala.html/"
   ]
  },
  {
   "cell_type": "code",
   "execution_count": 17,
   "id": "2b1114de-3c34-45fa-9344-0285f6153e85",
   "metadata": {},
   "outputs": [
    {
     "name": "stderr",
     "output_type": "stream",
     "text": []
    },
    {
     "name": "stdout",
     "output_type": "stream",
     "text": [
      "+-------+--------------------------------+------+\n",
      "|level_0|                          levels|length|\n",
      "+-------+--------------------------------+------+\n",
      "|      2|         [27, 30, 117, 118, 173]|     5|\n",
      "|      2|    [27, 30, 117, 143, 163, 173]|     6|\n",
      "|      2|     [27, 30, 31, 117, 118, 173]|     6|\n",
      "|      2|    [27, 30, 117, 118, 163, 173]|     6|\n",
      "|      2|[27, 30, 31, 117, 143, 163, 173]|     7|\n",
      "|      2|[27, 30, 31, 117, 118, 163, 173]|     7|\n",
      "+-------+--------------------------------+------+\n",
      "\n"
     ]
    },
    {
     "name": "stderr",
     "output_type": "stream",
     "text": []
    }
   ],
   "source": [
    "# initial DataFrame\n",
    "\n",
    "BEG = 2\n",
    "END = 173\n",
    "\n",
    "edges_join = edges \\\n",
    "  .withColumnRenamed('source', 'level_0') \\\n",
    "  .withColumnRenamed('target', 'level_1')\n",
    "\n",
    "i = 1\n",
    "\n",
    "levels = ['level_0', 'level_1']\n",
    "\n",
    "while True:\n",
    "    this_level = 'level_{}'.format(i)\n",
    "    next_level = 'level_{}'.format(i+1)\n",
    "    edges_level = edges \\\n",
    "    .withColumnRenamed('source', this_level) \\\n",
    "    .withColumnRenamed('target', next_level)\n",
    "    edges_join = edges_join.join(edges_level, on=this_level, how='left')\n",
    "    \n",
    "    levels.append(next_level)\n",
    "    \n",
    "    # Check if DF is empty. Break loop if empty, Otherwise continue with next level\n",
    "    if edges_join.where(F.col(next_level).isNotNull()).count() == 0:\n",
    "        break\n",
    "    else:\n",
    "        i += 1\n",
    "\n",
    "# Sort columns and show\n",
    "edges_fin = (\n",
    "    edges_join\n",
    "    .sort('level_0')\n",
    "    .select(*levels)\n",
    "    .filter(F.col('level_0') == F.lit(BEG)) ## source node\n",
    "    .fillna(-1)\n",
    "    .withColumn('levels', F.array(*levels[1:]))\n",
    "    .withColumn('levels', F.array_remove('levels', -1))\n",
    "    .select('level_0', 'levels')\n",
    "    .filter(F.array_contains('levels', END)) ## target node\n",
    "    .withColumn('length', F.size('levels'))\n",
    "    .filter(F.col('levels')[F.col('length')-F.lit(1)] == F.lit(END)) ## target node\n",
    "    .orderBy('length')\n",
    "    ##.limit(1) ## get shortest\n",
    ")\n",
    "\n",
    "edges_fin.show(20,100)"
   ]
  },
  {
   "cell_type": "code",
   "execution_count": 18,
   "id": "2b3f23f9-7401-45a4-be93-368bb231911d",
   "metadata": {},
   "outputs": [],
   "source": [
    "# edges_fin.printSchema()"
   ]
  },
  {
   "cell_type": "code",
   "execution_count": null,
   "id": "6b6a7e0f",
   "metadata": {},
   "outputs": [],
   "source": []
  },
  {
   "cell_type": "markdown",
   "id": "609ca94b-9e7f-4078-991e-6cf939a53c04",
   "metadata": {},
   "source": [
    "#### MAYBE BFS"
   ]
  },
  {
   "cell_type": "code",
   "execution_count": 19,
   "id": "52d8242c",
   "metadata": {},
   "outputs": [],
   "source": [
    "def find_shortest_path(edges, beg, end):\n",
    "    \"\"\"\n",
    "    \"\"\"\n",
    "    BEG = beg\n",
    "    END = end\n",
    "\n",
    "    i = 0\n",
    "\n",
    "    this_level = 'level_{}'.format(i)\n",
    "    next_level = 'level_{}'.format(i+1)\n",
    "\n",
    "    edges_join = (\n",
    "        edges\n",
    "        .withColumnRenamed('source', this_level)\n",
    "        .withColumnRenamed('target', next_level)\n",
    "        .filter(F.col(this_level) == F.lit(BEG))\n",
    "        .withColumn('is_final', F.when(F.col(next_level) == F.lit(END), 1).otherwise(0))\n",
    "    )\n",
    "\n",
    "\n",
    "    levels = ['level_0', 'level_1']\n",
    "\n",
    "    print(levels)\n",
    "    edges_join.show(100, 200)\n",
    "\n",
    "    while True:\n",
    "\n",
    "        is_final = edges_join.filter('is_final == 1').count() > 0\n",
    "        is_counted = edges_join.where(F.col(next_level).isNotNull()).count() == 0\n",
    "        \n",
    "        if is_final or is_counted:\n",
    "            break\n",
    "        else:\n",
    "            i += 1\n",
    "\n",
    "        this_level = 'level_{}'.format(i)\n",
    "        next_level = 'level_{}'.format(i+1)\n",
    "\n",
    "        levels.append(next_level)\n",
    "\n",
    "        edges_level = edges \\\n",
    "        .withColumnRenamed('source', this_level) \\\n",
    "        .withColumnRenamed('target', next_level) \\\n",
    "        .join(\n",
    "            \n",
    "            edges_join.select(this_level).distinct().withColumnRenamed(this_level, next_level).withColumn('is_visited', F.lit(1)), \n",
    "            on=next_level, \n",
    "            how='left'\n",
    "\n",
    "            ) \\\n",
    "        .filter('is_visited is null').select(this_level, next_level)\n",
    "\n",
    "        edges_join = (\n",
    "            edges_join\n",
    "            .join(edges_level, on=this_level, how='left')\n",
    "            .filter(F.col(next_level).isNotNull())\n",
    "            .withColumn('is_final', F.when(F.col(next_level) == F.lit(END), 1).otherwise(0))\n",
    "            .select(*levels, 'is_final')\n",
    "            )\n",
    "\n",
    "        print(levels)\n",
    "        edges_join.show(100, 200)\n",
    "\n",
    "\n",
    "    if is_final:\n",
    "        path_len = len(levels)-1\n",
    "        print('Shortest path length from {} to {}: {}'.format(BEG, END, path_len))\n",
    "        final_path = edges_join.filter('is_final = 1')\n",
    "        final_path.show()\n",
    "        return final_path.toPandas()\n",
    "    else:\n",
    "        print('Shortest path from {} to {} doesnt exist'.format(BEG, END))\n",
    "        return None\n"
   ]
  },
  {
   "cell_type": "code",
   "execution_count": 20,
   "id": "b104706e",
   "metadata": {},
   "outputs": [
    {
     "name": "stdout",
     "output_type": "stream",
     "text": [
      "['level_0', 'level_1']\n",
      "+-------+-------+--------+\n",
      "|level_0|level_1|is_final|\n",
      "+-------+-------+--------+\n",
      "|      2|     27|       0|\n",
      "|      2|    136|       0|\n",
      "|      2|    129|       0|\n",
      "|      2|     45|       0|\n",
      "+-------+-------+--------+\n",
      "\n",
      "['level_0', 'level_1', 'level_2']\n",
      "+-------+-------+-------+--------+\n",
      "|level_0|level_1|level_2|is_final|\n",
      "+-------+-------+-------+--------+\n",
      "|      2|     27|     29|       0|\n",
      "|      2|     27|     51|       0|\n",
      "|      2|     27|    134|       0|\n",
      "|      2|     27|    102|       0|\n",
      "|      2|     27|     30|       0|\n",
      "|      2|    129|    168|       0|\n",
      "+-------+-------+-------+--------+\n",
      "\n",
      "['level_0', 'level_1', 'level_2', 'level_3']\n",
      "+-------+-------+-------+-------+--------+\n",
      "|level_0|level_1|level_2|level_3|is_final|\n",
      "+-------+-------+-------+-------+--------+\n",
      "|      2|    129|    168|    181|       0|\n",
      "|      2|     27|    102|    159|       0|\n",
      "|      2|     27|     30|     31|       0|\n",
      "|      2|     27|     30|    117|       0|\n",
      "+-------+-------+-------+-------+--------+\n",
      "\n",
      "['level_0', 'level_1', 'level_2', 'level_3', 'level_4']\n"
     ]
    },
    {
     "name": "stderr",
     "output_type": "stream",
     "text": []
    },
    {
     "name": "stdout",
     "output_type": "stream",
     "text": [
      "+-------+-------+-------+-------+-------+--------+\n",
      "|level_0|level_1|level_2|level_3|level_4|is_final|\n",
      "+-------+-------+-------+-------+-------+--------+\n",
      "|      2|     27|     30|     31|    177|       0|\n",
      "|      2|     27|     30|     31|    134|       0|\n",
      "|      2|     27|    102|    159|    174|       0|\n",
      "|      2|     27|    102|    159|    180|       0|\n",
      "|      2|     27|     30|    117|    143|       0|\n",
      "|      2|     27|     30|    117|    174|       0|\n",
      "|      2|     27|     30|    117|    177|       0|\n",
      "|      2|     27|     30|    117|    134|       0|\n",
      "|      2|     27|     30|    117|    118|       0|\n",
      "|      2|     27|     30|    117|    121|       0|\n",
      "+-------+-------+-------+-------+-------+--------+\n",
      "\n"
     ]
    },
    {
     "name": "stderr",
     "output_type": "stream",
     "text": []
    },
    {
     "name": "stdout",
     "output_type": "stream",
     "text": [
      "['level_0', 'level_1', 'level_2', 'level_3', 'level_4', 'level_5']\n"
     ]
    },
    {
     "name": "stderr",
     "output_type": "stream",
     "text": []
    },
    {
     "name": "stdout",
     "output_type": "stream",
     "text": [
      "+-------+-------+-------+-------+-------+-------+--------+\n",
      "|level_0|level_1|level_2|level_3|level_4|level_5|is_final|\n",
      "+-------+-------+-------+-------+-------+-------+--------+\n",
      "|      2|     27|     30|    117|    143|    163|       0|\n",
      "|      2|     27|     30|     31|    177|    184|       0|\n",
      "|      2|     27|     30|    117|    177|    184|       0|\n",
      "|      2|     27|     30|    117|    118|    163|       0|\n",
      "|      2|     27|     30|    117|    118|    173|       1|\n",
      "+-------+-------+-------+-------+-------+-------+--------+\n",
      "\n"
     ]
    },
    {
     "name": "stderr",
     "output_type": "stream",
     "text": []
    },
    {
     "name": "stdout",
     "output_type": "stream",
     "text": [
      "Shortest path length from 2 to 173: 5\n"
     ]
    },
    {
     "name": "stderr",
     "output_type": "stream",
     "text": []
    },
    {
     "name": "stdout",
     "output_type": "stream",
     "text": [
      "+-------+-------+-------+-------+-------+-------+--------+\n",
      "|level_0|level_1|level_2|level_3|level_4|level_5|is_final|\n",
      "+-------+-------+-------+-------+-------+-------+--------+\n",
      "|      2|     27|     30|    117|    118|    173|       1|\n",
      "+-------+-------+-------+-------+-------+-------+--------+\n",
      "\n"
     ]
    },
    {
     "name": "stderr",
     "output_type": "stream",
     "text": []
    },
    {
     "data": {
      "text/html": [
       "<div>\n",
       "<style scoped>\n",
       "    .dataframe tbody tr th:only-of-type {\n",
       "        vertical-align: middle;\n",
       "    }\n",
       "\n",
       "    .dataframe tbody tr th {\n",
       "        vertical-align: top;\n",
       "    }\n",
       "\n",
       "    .dataframe thead th {\n",
       "        text-align: right;\n",
       "    }\n",
       "</style>\n",
       "<table border=\"1\" class=\"dataframe\">\n",
       "  <thead>\n",
       "    <tr style=\"text-align: right;\">\n",
       "      <th></th>\n",
       "      <th>level_0</th>\n",
       "      <th>level_1</th>\n",
       "      <th>level_2</th>\n",
       "      <th>level_3</th>\n",
       "      <th>level_4</th>\n",
       "      <th>level_5</th>\n",
       "      <th>is_final</th>\n",
       "    </tr>\n",
       "  </thead>\n",
       "  <tbody>\n",
       "    <tr>\n",
       "      <th>0</th>\n",
       "      <td>2</td>\n",
       "      <td>27</td>\n",
       "      <td>30</td>\n",
       "      <td>117</td>\n",
       "      <td>118</td>\n",
       "      <td>173</td>\n",
       "      <td>1</td>\n",
       "    </tr>\n",
       "  </tbody>\n",
       "</table>\n",
       "</div>"
      ],
      "text/plain": [
       "   level_0  level_1  level_2  level_3  level_4  level_5  is_final\n",
       "0        2       27       30      117      118      173         1"
      ]
     },
     "execution_count": 20,
     "metadata": {},
     "output_type": "execute_result"
    }
   ],
   "source": [
    "BEG = 2\n",
    "END = 173\n",
    "\n",
    "shortest_path = find_shortest_path(edges, BEG, END)\n",
    "shortest_path\n"
   ]
  },
  {
   "cell_type": "code",
   "execution_count": null,
   "id": "af53b097",
   "metadata": {},
   "outputs": [],
   "source": []
  },
  {
   "cell_type": "code",
   "execution_count": 21,
   "id": "53c005f2",
   "metadata": {},
   "outputs": [
    {
     "name": "stdout",
     "output_type": "stream",
     "text": [
      "['level_0', 'level_1']\n",
      "+-------+-------+--------+\n",
      "|level_0|level_1|is_final|\n",
      "+-------+-------+--------+\n",
      "|     13|     27|       0|\n",
      "|     13|     29|       0|\n",
      "|     13|     51|       0|\n",
      "|     13|    102|       0|\n",
      "+-------+-------+--------+\n",
      "\n",
      "['level_0', 'level_1', 'level_2']\n",
      "+-------+-------+-------+--------+\n",
      "|level_0|level_1|level_2|is_final|\n",
      "+-------+-------+-------+--------+\n",
      "|     13|     27|    134|       0|\n",
      "|     13|     27|     30|       0|\n",
      "|     13|    102|    159|       0|\n",
      "+-------+-------+-------+--------+\n",
      "\n",
      "['level_0', 'level_1', 'level_2', 'level_3']\n",
      "+-------+-------+-------+-------+--------+\n",
      "|level_0|level_1|level_2|level_3|is_final|\n",
      "+-------+-------+-------+-------+--------+\n",
      "|     13|     27|     30|     31|       0|\n",
      "|     13|     27|     30|    117|       0|\n",
      "|     13|    102|    159|    174|       0|\n",
      "|     13|    102|    159|    180|       0|\n",
      "+-------+-------+-------+-------+--------+\n",
      "\n"
     ]
    },
    {
     "name": "stderr",
     "output_type": "stream",
     "text": []
    },
    {
     "name": "stdout",
     "output_type": "stream",
     "text": [
      "['level_0', 'level_1', 'level_2', 'level_3', 'level_4']\n"
     ]
    },
    {
     "name": "stderr",
     "output_type": "stream",
     "text": []
    },
    {
     "name": "stdout",
     "output_type": "stream",
     "text": [
      "+-------+-------+-------+-------+-------+--------+\n",
      "|level_0|level_1|level_2|level_3|level_4|is_final|\n",
      "+-------+-------+-------+-------+-------+--------+\n",
      "|     13|     27|     30|     31|    177|       1|\n",
      "|     13|     27|     30|     31|    134|       0|\n",
      "|     13|     27|     30|    117|    143|       0|\n",
      "|     13|     27|     30|    117|    177|       1|\n",
      "|     13|     27|     30|    117|    134|       0|\n",
      "|     13|     27|     30|    117|    118|       0|\n",
      "|     13|     27|     30|    117|    121|       0|\n",
      "+-------+-------+-------+-------+-------+--------+\n",
      "\n",
      "Shortest path length from 13 to 177: 4\n"
     ]
    },
    {
     "name": "stderr",
     "output_type": "stream",
     "text": []
    },
    {
     "name": "stdout",
     "output_type": "stream",
     "text": [
      "+-------+-------+-------+-------+-------+--------+\n",
      "|level_0|level_1|level_2|level_3|level_4|is_final|\n",
      "+-------+-------+-------+-------+-------+--------+\n",
      "|     13|     27|     30|     31|    177|       1|\n",
      "|     13|     27|     30|    117|    177|       1|\n",
      "+-------+-------+-------+-------+-------+--------+\n",
      "\n"
     ]
    },
    {
     "name": "stderr",
     "output_type": "stream",
     "text": []
    },
    {
     "data": {
      "text/html": [
       "<div>\n",
       "<style scoped>\n",
       "    .dataframe tbody tr th:only-of-type {\n",
       "        vertical-align: middle;\n",
       "    }\n",
       "\n",
       "    .dataframe tbody tr th {\n",
       "        vertical-align: top;\n",
       "    }\n",
       "\n",
       "    .dataframe thead th {\n",
       "        text-align: right;\n",
       "    }\n",
       "</style>\n",
       "<table border=\"1\" class=\"dataframe\">\n",
       "  <thead>\n",
       "    <tr style=\"text-align: right;\">\n",
       "      <th></th>\n",
       "      <th>level_0</th>\n",
       "      <th>level_1</th>\n",
       "      <th>level_2</th>\n",
       "      <th>level_3</th>\n",
       "      <th>level_4</th>\n",
       "      <th>is_final</th>\n",
       "    </tr>\n",
       "  </thead>\n",
       "  <tbody>\n",
       "    <tr>\n",
       "      <th>0</th>\n",
       "      <td>13</td>\n",
       "      <td>27</td>\n",
       "      <td>30</td>\n",
       "      <td>31</td>\n",
       "      <td>177</td>\n",
       "      <td>1</td>\n",
       "    </tr>\n",
       "    <tr>\n",
       "      <th>1</th>\n",
       "      <td>13</td>\n",
       "      <td>27</td>\n",
       "      <td>30</td>\n",
       "      <td>117</td>\n",
       "      <td>177</td>\n",
       "      <td>1</td>\n",
       "    </tr>\n",
       "  </tbody>\n",
       "</table>\n",
       "</div>"
      ],
      "text/plain": [
       "   level_0  level_1  level_2  level_3  level_4  is_final\n",
       "0       13       27       30       31      177         1\n",
       "1       13       27       30      117      177         1"
      ]
     },
     "execution_count": 21,
     "metadata": {},
     "output_type": "execute_result"
    }
   ],
   "source": [
    "BEG = 13\n",
    "END = 177\n",
    "\n",
    "shortest_path = find_shortest_path(edges, BEG, END)\n",
    "shortest_path"
   ]
  },
  {
   "cell_type": "code",
   "execution_count": 29,
   "id": "fe369ba1",
   "metadata": {},
   "outputs": [
    {
     "data": {
      "image/png": "[encoded data removed]",
      "text/plain": [
       "<Figure size 720x432 with 1 Axes>"
      ]
     },
     "metadata": {},
     "output_type": "display_data"
    }
   ],
   "source": [
    "nodes_from_shortest = list(set(shortest_path.iloc[:,:-1].values.flatten()))\n",
    "\n",
    "G_filtered = nx.subgraph_view(G, filter_node=lambda x: x in nodes_from_shortest)\n",
    "\n",
    "fig, ax = plt.subplots(figsize=(10, 6))\n",
    "node_sizes = [1000]* len(G_filtered.nodes)\n",
    "nx.draw_spring(G_filtered, with_labels = True, node_size=node_sizes)\n"
   ]
  },
  {
   "cell_type": "code",
   "execution_count": null,
   "id": "fe0c98db",
   "metadata": {},
   "outputs": [],
   "source": []
  },
  {
   "cell_type": "markdown",
   "id": "1f74682c-f0e9-48cd-9a62-a8a70d9ef767",
   "metadata": {},
   "source": [
    "#### https://hashsum.ru/bfs-algoritm-obxoda-grafa-v-shirinu/"
   ]
  },
  {
   "cell_type": "code",
   "execution_count": 23,
   "id": "0f29e383-a54d-46be-bdc7-4ac9596102ac",
   "metadata": {},
   "outputs": [
    {
     "name": "stdout",
     "output_type": "stream",
     "text": [
      "A B C D E F "
     ]
    },
    {
     "data": {
      "image/png": "[encoded data removed]",
      "text/plain": [
       "<Figure size 720x360 with 1 Axes>"
      ]
     },
     "metadata": {},
     "output_type": "display_data"
    }
   ],
   "source": [
    "\"\"\" ****** Стандартный алгоритм обхода графа в ширину (bfs). ****\n",
    " Алгоритм работает следующим образом:\n",
    "1. Начните с размещения любой вершины графа в конце очереди.\n",
    "2. Возьмите передний элемент очереди и добавьте его в список посещенных.\n",
    "3. Создайте список смежных узлов этой вершины. \n",
    " Добавьте те, которых нет в списке посещенных, в конец очереди.\n",
    "4. Продолжайте повторять шаги 2 и 3, пока очередь не опустеет. \n",
    "\"\"\"\n",
    "graph = {\n",
    "  'A' : ['B','C'],\n",
    "  'B' : ['D', 'E'],\n",
    "  'C' : ['F'],\n",
    "  'D' : [],\n",
    "  'E' : ['F'],\n",
    "  'F' : []\n",
    "}\n",
    "\n",
    "Graph = nx.DiGraph()\n",
    "Graph.add_edges_from([(k,i) for k,v in graph.items() for i in v])\n",
    "\n",
    "fig, ax = plt.subplots(figsize=(10, 5))\n",
    "node_sizes = [1000]* len(Graph.nodes)\n",
    "nx.draw_spring(Graph, with_labels = True, node_size=node_sizes)\n",
    "\n",
    "\n",
    "visited = [] # List to keep track of visited nodes.\n",
    "queue = []   # Initialize a queue\n",
    "def bfs(visited, graph, node):\n",
    "    global queue\n",
    "    visited.append(node)\n",
    "    queue.append(node)\n",
    "    while queue:\n",
    "        s = queue.pop(0)\n",
    "        print (s, end = \" \")\n",
    "        for neighbour in graph[s]:\n",
    "            if neighbour not in visited:\n",
    "                visited.append(neighbour)\n",
    "                queue.append(neighbour)\n",
    "# Driver Code\n",
    "bfs(visited, graph, 'A')"
   ]
  },
  {
   "cell_type": "code",
   "execution_count": null,
   "id": "568fd5a3-518b-477c-85da-11fea2f4c53f",
   "metadata": {},
   "outputs": [],
   "source": []
  }
 ],
 "metadata": {
  "interpreter": {
   "hash": "1752cb20aea32250d55ffd1f5242a523e56060d0a8d26745f8b0c7db6fb3b417"
  },
  "kernelspec": {
   "display_name": "Python 3.9.7 64-bit ('pyspark_venv': conda)",
   "name": "python3"
  },
  "language_info": {
   "codemirror_mode": {
    "name": "ipython",
    "version": 3
   },
   "file_extension": ".py",
   "mimetype": "text/x-python",
   "name": "python",
   "nbconvert_exporter": "python",
   "pygments_lexer": "ipython3",
   "version": "3.9.7"
  }
 },
 "nbformat": 4,
 "nbformat_minor": 5
}
