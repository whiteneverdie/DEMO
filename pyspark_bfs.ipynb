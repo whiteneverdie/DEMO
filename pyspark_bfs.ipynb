{
 "cells": [
  {
   "cell_type": "code",
   "execution_count": 1,
   "id": "f6dcfeda-43ef-4635-a25d-77ce4f19e567",
   "metadata": {},
   "outputs": [],
   "source": [
    "# !pip install networkx\n",
    "# !pip install matplotlib"
   ]
  },
  {
   "cell_type": "code",
   "execution_count": 2,
   "id": "1c847df3-0775-48ed-97d6-172a975bf305",
   "metadata": {},
   "outputs": [],
   "source": [
    "import pandas as pd\n",
    "import numpy as np\n",
    "from matplotlib import pyplot as plt\n",
    "\n",
    "import networkx as nx\n",
    "\n",
    "import pyspark\n",
    "from pyspark.sql import SparkSession\n",
    "from pyspark.sql import functions as F\n",
    "\n"
   ]
  },
  {
   "cell_type": "code",
   "execution_count": 3,
   "id": "e47f57cc-e300-48b9-ad55-bb8f56b7b8bc",
   "metadata": {},
   "outputs": [
    {
     "name": "stderr",
     "output_type": "stream",
     "text": [
      "21/11/04 15:04:07 WARN Utils: Your hostname, DESKTOP-EUNRE3J resolves to a loopback address: 127.0.1.1; using 172.26.54.87 instead (on interface eth0)\n",
      "21/11/04 15:04:07 WARN Utils: Set SPARK_LOCAL_IP if you need to bind to another address\n",
      "WARNING: An illegal reflective access operation has occurred\n",
      "WARNING: Illegal reflective access by org.apache.spark.unsafe.Platform (file:/home/jw/.sdkman/candidates/spark/3.1.2/jars/spark-unsafe_2.12-3.1.2.jar) to constructor java.nio.DirectByteBuffer(long,int)\n",
      "WARNING: Please consider reporting this to the maintainers of org.apache.spark.unsafe.Platform\n",
      "WARNING: Use --illegal-access=warn to enable warnings of further illegal reflective access operations\n",
      "WARNING: All illegal access operations will be denied in a future release\n",
      "21/11/04 15:04:08 WARN NativeCodeLoader: Unable to load native-hadoop library for your platform... using builtin-java classes where applicable\n",
      "Using Spark's default log4j profile: org/apache/spark/log4j-defaults.properties\n",
      "Setting default log level to \"WARN\".\n",
      "To adjust logging level use sc.setLogLevel(newLevel). For SparkR, use setLogLevel(newLevel).\n"
     ]
    },
    {
     "data": {
      "text/html": [
       "\n",
       "            <div>\n",
       "                <p><b>SparkSession - in-memory</b></p>\n",
       "                \n",
       "        <div>\n",
       "            <p><b>SparkContext</b></p>\n",
       "\n",
       "            <p><a href=\"http://172.26.54.87:4040\">Spark UI</a></p>\n",
       "\n",
       "            <dl>\n",
       "              <dt>Version</dt>\n",
       "                <dd><code>v3.1.2</code></dd>\n",
       "              <dt>Master</dt>\n",
       "                <dd><code>local[*]</code></dd>\n",
       "              <dt>AppName</dt>\n",
       "                <dd><code>pyspark-shell</code></dd>\n",
       "            </dl>\n",
       "        </div>\n",
       "        \n",
       "            </div>\n",
       "        "
      ],
      "text/plain": [
       "<pyspark.sql.session.SparkSession at 0x7fb2accdf490>"
      ]
     },
     "execution_count": 3,
     "metadata": {},
     "output_type": "execute_result"
    }
   ],
   "source": [
    "spark = SparkSession.builder.getOrCreate()\n",
    "spark"
   ]
  },
  {
   "cell_type": "code",
   "execution_count": 4,
   "id": "9a9494d9-f9c9-46b8-9df2-0ae373c87af7",
   "metadata": {},
   "outputs": [
    {
     "name": "stdout",
     "output_type": "stream",
     "text": [
      "Downloaded From: http://proj.ise.bgu.ac.il/sns\n",
      "\n",
      "Students� Cooperation Social Network was constructed from the data collected during a �Computer and Network Security� course; a mandatory course at Ben-Gurion University. The social network contains data collected from 185 participating students from two different departments. The course�s social network was created by analyzing the implicit and explicit cooperation among the students while doing their homework assignments. \n",
      "The students� cooperation graph contained 185 nodes and 360 links and 3 types of links.\n",
      "Please Cite:\n",
      "\n",
      "Predicting Student Exam's Scores by Analyzing Social Network Data , Michael Fire, Gilad Katz, Yuval Elovici, Bracha Shapira, and Lior Rokach, 2012.\n",
      "Bibtex:\n",
      "@article{\n",
      "\n",
      "title={Predicting Student Exam's Scores by Analyzing Social Network Data},\n",
      "author={Michael Fire, Gilad Katz, Yuval Elovici, Bracha Shapira, and Lior Rokach},\n",
      "year={2012}\n",
      "}\n"
     ]
    }
   ],
   "source": [
    "!cat data/students/readme.txt"
   ]
  },
  {
   "cell_type": "code",
   "execution_count": 5,
   "id": "cc556e5c-b602-4722-8972-dc66a6cbd1c8",
   "metadata": {},
   "outputs": [
    {
     "name": "stdout",
     "output_type": "stream",
     "text": [
      "(360, 3)\n"
     ]
    },
    {
     "data": {
      "text/html": [
       "<div>\n",
       "<style scoped>\n",
       "    .dataframe tbody tr th:only-of-type {\n",
       "        vertical-align: middle;\n",
       "    }\n",
       "\n",
       "    .dataframe tbody tr th {\n",
       "        vertical-align: top;\n",
       "    }\n",
       "\n",
       "    .dataframe thead th {\n",
       "        text-align: right;\n",
       "    }\n",
       "</style>\n",
       "<table border=\"1\" class=\"dataframe\">\n",
       "  <thead>\n",
       "    <tr style=\"text-align: right;\">\n",
       "      <th></th>\n",
       "      <th>source</th>\n",
       "      <th>target</th>\n",
       "      <th>type</th>\n",
       "    </tr>\n",
       "  </thead>\n",
       "  <tbody>\n",
       "    <tr>\n",
       "      <th>0</th>\n",
       "      <td>1</td>\n",
       "      <td>81</td>\n",
       "      <td>Partners</td>\n",
       "    </tr>\n",
       "    <tr>\n",
       "      <th>1</th>\n",
       "      <td>1</td>\n",
       "      <td>81</td>\n",
       "      <td>Time</td>\n",
       "    </tr>\n",
       "    <tr>\n",
       "      <th>2</th>\n",
       "      <td>2</td>\n",
       "      <td>27</td>\n",
       "      <td>Time</td>\n",
       "    </tr>\n",
       "    <tr>\n",
       "      <th>3</th>\n",
       "      <td>2</td>\n",
       "      <td>136</td>\n",
       "      <td>Time</td>\n",
       "    </tr>\n",
       "    <tr>\n",
       "      <th>4</th>\n",
       "      <td>2</td>\n",
       "      <td>129</td>\n",
       "      <td>Partners</td>\n",
       "    </tr>\n",
       "  </tbody>\n",
       "</table>\n",
       "</div>"
      ],
      "text/plain": [
       "   source  target      type\n",
       "0       1      81  Partners\n",
       "1       1      81      Time\n",
       "2       2      27      Time\n",
       "3       2     136      Time\n",
       "4       2     129  Partners"
      ]
     },
     "execution_count": 5,
     "metadata": {},
     "output_type": "execute_result"
    }
   ],
   "source": [
    "edgesDF = pd.read_csv('data/students/multigraph_hashAnonymized.csv',header=0, names=['source', 'target', 'type'])\n",
    "print(edgesDF.shape)\n",
    "edgesDF.head()"
   ]
  },
  {
   "cell_type": "code",
   "execution_count": 6,
   "id": "480e7072-3d65-44db-8339-639bb6bf6cce",
   "metadata": {},
   "outputs": [
    {
     "name": "stdout",
     "output_type": "stream",
     "text": [
      "(185, 2)\n"
     ]
    },
    {
     "data": {
      "text/html": [
       "<div>\n",
       "<style scoped>\n",
       "    .dataframe tbody tr th:only-of-type {\n",
       "        vertical-align: middle;\n",
       "    }\n",
       "\n",
       "    .dataframe tbody tr th {\n",
       "        vertical-align: top;\n",
       "    }\n",
       "\n",
       "    .dataframe thead th {\n",
       "        text-align: right;\n",
       "    }\n",
       "</style>\n",
       "<table border=\"1\" class=\"dataframe\">\n",
       "  <thead>\n",
       "    <tr style=\"text-align: right;\">\n",
       "      <th></th>\n",
       "      <th>name</th>\n",
       "      <th>freq</th>\n",
       "    </tr>\n",
       "  </thead>\n",
       "  <tbody>\n",
       "    <tr>\n",
       "      <th>0</th>\n",
       "      <td>1</td>\n",
       "      <td>2</td>\n",
       "    </tr>\n",
       "    <tr>\n",
       "      <th>1</th>\n",
       "      <td>2</td>\n",
       "      <td>4</td>\n",
       "    </tr>\n",
       "    <tr>\n",
       "      <th>2</th>\n",
       "      <td>3</td>\n",
       "      <td>3</td>\n",
       "    </tr>\n",
       "    <tr>\n",
       "      <th>3</th>\n",
       "      <td>4</td>\n",
       "      <td>3</td>\n",
       "    </tr>\n",
       "    <tr>\n",
       "      <th>4</th>\n",
       "      <td>5</td>\n",
       "      <td>4</td>\n",
       "    </tr>\n",
       "  </tbody>\n",
       "</table>\n",
       "</div>"
      ],
      "text/plain": [
       "   name  freq\n",
       "0     1     2\n",
       "1     2     4\n",
       "2     3     3\n",
       "3     4     3\n",
       "4     5     4"
      ]
     },
     "execution_count": 6,
     "metadata": {},
     "output_type": "execute_result"
    }
   ],
   "source": [
    "name, freq = np.unique(edgesDF[['source', 'target']].values.flatten(), return_counts=True)\n",
    "nodesDF = pd.DataFrame({'name': name, 'freq': freq})\n",
    "print(nodesDF.shape)\n",
    "nodesDF.head()"
   ]
  },
  {
   "cell_type": "code",
   "execution_count": null,
   "id": "b01923db-6457-4c15-8c15-27ecf60daf4b",
   "metadata": {},
   "outputs": [],
   "source": []
  },
  {
   "cell_type": "code",
   "execution_count": 7,
   "id": "795d365b-8f44-4a93-8e2c-0e034c76368f",
   "metadata": {},
   "outputs": [
    {
     "name": "stdout",
     "output_type": "stream",
     "text": [
      "Number of nodes in DiGraph: 185\n"
     ]
    }
   ],
   "source": [
    "G = nx.DiGraph()\n",
    "G.add_edges_from(edgesDF[['source', 'target']].values.tolist())\n",
    "print('Number of nodes in DiGraph: {}'.format(G.number_of_nodes()))"
   ]
  },
  {
   "cell_type": "code",
   "execution_count": null,
   "id": "5884ffca-056b-4a72-91ea-b479fd4894be",
   "metadata": {},
   "outputs": [],
   "source": []
  },
  {
   "cell_type": "code",
   "execution_count": 8,
   "id": "87e0eccf-6798-4cb9-81de-f57785a4bb4f",
   "metadata": {},
   "outputs": [
    {
     "data": {
      "text/plain": [
       "[2, 27, 30, 31, 117, 118, 163, 173]"
      ]
     },
     "execution_count": 8,
     "metadata": {},
     "output_type": "execute_result"
    }
   ],
   "source": [
    "longest_list = nx.dag_longest_path(G)\n",
    "longest_list"
   ]
  },
  {
   "cell_type": "code",
   "execution_count": 9,
   "id": "14f22542-ceb5-4183-ad0e-27f1f9636be1",
   "metadata": {},
   "outputs": [
    {
     "data": {
      "text/plain": [
       "[2, 27, 30, 117, 118, 173]"
      ]
     },
     "execution_count": 9,
     "metadata": {},
     "output_type": "execute_result"
    }
   ],
   "source": [
    "nx.shortest_path(G, source=longest_list[0], target=longest_list[-1])"
   ]
  },
  {
   "cell_type": "code",
   "execution_count": 10,
   "id": "452442f0-2eb1-4569-b921-99daf23278bb",
   "metadata": {},
   "outputs": [
    {
     "data": {
      "text/plain": [
       "[2, 27, 30, 31, 117, 118, 163, 173]"
      ]
     },
     "execution_count": 10,
     "metadata": {},
     "output_type": "execute_result"
    }
   ],
   "source": [
    "G_filtered = nx.subgraph_view(G, filter_node=lambda x: x in longest_list)\n",
    "sorted(list(G_filtered.nodes))"
   ]
  },
  {
   "cell_type": "code",
   "execution_count": 11,
   "id": "6f548260-2e7e-43e9-9553-24b538993c0f",
   "metadata": {},
   "outputs": [
    {
     "data": {
      "image/png": "[encoded data removed]",
      "text/plain": [
       "<Figure size 1080x576 with 1 Axes>"
      ]
     },
     "metadata": {},
     "output_type": "display_data"
    }
   ],
   "source": [
    "fig, ax = plt.subplots(figsize=(15, 8))\n",
    "node_sizes = [1000]* len(G_filtered.nodes)\n",
    "nx.draw_circular(G_filtered, with_labels = True, node_size=node_sizes) # "
   ]
  },
  {
   "cell_type": "code",
   "execution_count": null,
   "id": "0ff1f10e-7def-4fcb-9bae-2924789f7a41",
   "metadata": {},
   "outputs": [],
   "source": []
  },
  {
   "cell_type": "code",
   "execution_count": null,
   "id": "2443232e-b385-49ec-8980-4a2c7cb0917f",
   "metadata": {},
   "outputs": [],
   "source": []
  },
  {
   "cell_type": "code",
   "execution_count": 12,
   "id": "50a4af22-6bfa-41d1-a2e8-0ecf1e457387",
   "metadata": {},
   "outputs": [
    {
     "name": "stdout",
     "output_type": "stream",
     "text": [
      "+------+------+\n",
      "|source|target|\n",
      "+------+------+\n",
      "|     1|    81|\n",
      "|     1|    81|\n",
      "|     2|    27|\n",
      "|     2|   136|\n",
      "|     2|   129|\n",
      "+------+------+\n",
      "only showing top 5 rows\n",
      "\n"
     ]
    },
    {
     "name": "stderr",
     "output_type": "stream",
     "text": [
      "                                                                                \r"
     ]
    }
   ],
   "source": [
    "edges = spark.createDataFrame(edgesDF[['source', 'target']])\n",
    "edges.show(5)"
   ]
  },
  {
   "cell_type": "code",
   "execution_count": 13,
   "id": "69d7b3e2-6823-43f9-b99e-0086621e8bc4",
   "metadata": {},
   "outputs": [
    {
     "name": "stdout",
     "output_type": "stream",
     "text": [
      "+----+----+\n",
      "|name|freq|\n",
      "+----+----+\n",
      "|   1|   2|\n",
      "|   2|   4|\n",
      "|   3|   3|\n",
      "|   4|   3|\n",
      "|   5|   4|\n",
      "+----+----+\n",
      "only showing top 5 rows\n",
      "\n"
     ]
    }
   ],
   "source": [
    "nodes = spark.createDataFrame(nodesDF)\n",
    "nodes.show(5)"
   ]
  },
  {
   "cell_type": "code",
   "execution_count": 14,
   "id": "2b1114de-3c34-45fa-9344-0285f6153e85",
   "metadata": {},
   "outputs": [
    {
     "name": "stderr",
     "output_type": "stream",
     "text": [
      "/home/jw/miniconda3/envs/pyspark_venv/lib/python3.9/site-packages/pyspark/sql/column.py:322: FutureWarning: A column as 'key' in getItem is deprecated as of Spark 3.0, and will not be supported in the future release. Use `column[key]` or `column.key` syntax instead.\n",
      "  warnings.warn(\n",
      "[Stage 85:===================================>                    (10 + 0) / 16]\r"
     ]
    },
    {
     "name": "stdout",
     "output_type": "stream",
     "text": [
      "+-------+--------------------------------+------+\n",
      "|level_0|                          levels|length|\n",
      "+-------+--------------------------------+------+\n",
      "|      2|         [27, 30, 117, 118, 173]|     5|\n",
      "|      2|     [27, 30, 31, 117, 118, 173]|     6|\n",
      "|      2|    [27, 30, 117, 118, 163, 173]|     6|\n",
      "|      2|    [27, 30, 117, 143, 163, 173]|     6|\n",
      "|      2|     [27, 30, 31, 117, 118, 173]|     6|\n",
      "|      2|[27, 30, 31, 117, 143, 163, 173]|     7|\n",
      "|      2|[27, 30, 31, 117, 118, 163, 173]|     7|\n",
      "|      2|[27, 30, 31, 117, 143, 163, 173]|     7|\n",
      "|      2|[27, 30, 31, 117, 118, 163, 173]|     7|\n",
      "+-------+--------------------------------+------+\n",
      "\n"
     ]
    },
    {
     "name": "stderr",
     "output_type": "stream",
     "text": [
      "                                                                                \r"
     ]
    }
   ],
   "source": [
    "# initial DataFrame\n",
    "edges_join = edges \\\n",
    "  .withColumnRenamed('source', 'level_0') \\\n",
    "  .withColumnRenamed('target', 'level_1')\n",
    "\n",
    "i = 1\n",
    "\n",
    "levels = ['level_0', 'level_1']\n",
    "\n",
    "while True:\n",
    "    this_level = 'level_{}'.format(i)\n",
    "    next_level = 'level_{}'.format(i+1)\n",
    "    edges_level = edges \\\n",
    "    .withColumnRenamed('source', this_level) \\\n",
    "    .withColumnRenamed('target', next_level)\n",
    "    edges_join = edges_join.join(edges_level, on=this_level, how='left')\n",
    "    \n",
    "    levels.append(next_level)\n",
    "    \n",
    "    # Check if DF is empty. Break loop if empty, Otherwise continue with next level\n",
    "    if edges_join.where(F.col(next_level).isNotNull()).count() == 0:\n",
    "        break\n",
    "    else:\n",
    "        i += 1\n",
    "\n",
    "# Sort columns and show\n",
    "edges_fin = (\n",
    "    edges_join\n",
    "    .sort('level_0')\n",
    "    .select(*levels)\n",
    "    .filter(F.col('level_0') == F.lit(2)) ## source node\n",
    "    .fillna(-1)\n",
    "    .withColumn('levels', F.array(*levels[1:]))\n",
    "    .withColumn('levels', F.array_remove('levels', -1))\n",
    "    .select('level_0', 'levels')\n",
    "    .filter(F.array_contains('levels', 173)) ## target node\n",
    "    .withColumn('length', F.size('levels'))\n",
    "    .filter(F.col('levels').getItem(F.col('length')-F.lit(1)) == F.lit(173)) ## target node\n",
    "    .orderBy('length')\n",
    "    ##.limit(1) ## get shortest\n",
    ")\n",
    "\n",
    "edges_fin.show(20,100)"
   ]
  },
  {
   "cell_type": "code",
   "execution_count": 15,
   "id": "2b3f23f9-7401-45a4-be93-368bb231911d",
   "metadata": {},
   "outputs": [
    {
     "name": "stdout",
     "output_type": "stream",
     "text": [
      "root\n",
      " |-- level_0: long (nullable = true)\n",
      " |-- levels: array (nullable = false)\n",
      " |    |-- element: long (containsNull = true)\n",
      " |-- length: integer (nullable = false)\n",
      "\n"
     ]
    }
   ],
   "source": [
    "edges_fin.printSchema()"
   ]
  },
  {
   "cell_type": "code",
   "execution_count": null,
   "id": "609ca94b-9e7f-4078-991e-6cf939a53c04",
   "metadata": {},
   "outputs": [],
   "source": []
  },
  {
   "cell_type": "code",
   "execution_count": null,
   "id": "1f74682c-f0e9-48cd-9a62-a8a70d9ef767",
   "metadata": {},
   "outputs": [],
   "source": []
  },
  {
   "cell_type": "code",
   "execution_count": null,
   "id": "0f29e383-a54d-46be-bdc7-4ac9596102ac",
   "metadata": {},
   "outputs": [],
   "source": []
  },
  {
   "cell_type": "code",
   "execution_count": null,
   "id": "568fd5a3-518b-477c-85da-11fea2f4c53f",
   "metadata": {},
   "outputs": [],
   "source": []
  },
  {
   "cell_type": "code",
   "execution_count": null,
   "id": "2c72eb19-82a5-4c09-b7c4-4065d11b921d",
   "metadata": {},
   "outputs": [],
   "source": []
  },
  {
   "cell_type": "code",
   "execution_count": null,
   "id": "6a6a731c-1e2a-4297-8e31-1b3f55937a6a",
   "metadata": {},
   "outputs": [],
   "source": []
  },
  {
   "cell_type": "code",
   "execution_count": null,
   "id": "7475161c-3966-4737-a3cb-f9cf8113e705",
   "metadata": {},
   "outputs": [],
   "source": []
  },
  {
   "cell_type": "code",
   "execution_count": null,
   "id": "0c7cbb6c-9809-4d70-b992-c7ed8da0df74",
   "metadata": {},
   "outputs": [],
   "source": []
  },
  {
   "cell_type": "code",
   "execution_count": null,
   "id": "c83b90d2-ee7b-45c9-8ff0-83d16ed1687c",
   "metadata": {},
   "outputs": [],
   "source": []
  }
 ],
 "metadata": {
  "kernelspec": {
   "display_name": "Python 3 (ipykernel)",
   "language": "python",
   "name": "python3"
  },
  "language_info": {
   "codemirror_mode": {
    "name": "ipython",
    "version": 3
   },
   "file_extension": ".py",
   "mimetype": "text/x-python",
   "name": "python",
   "nbconvert_exporter": "python",
   "pygments_lexer": "ipython3",
   "version": "3.9.7"
  }
 },
 "nbformat": 4,
 "nbformat_minor": 5
}
