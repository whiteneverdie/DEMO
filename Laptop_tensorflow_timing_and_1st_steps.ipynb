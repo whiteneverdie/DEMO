{
 "cells": [
  {
   "cell_type": "code",
   "execution_count": 19,
   "metadata": {},
   "outputs": [],
   "source": [
    "# !pip install psutil"
   ]
  },
  {
   "cell_type": "code",
   "execution_count": 22,
   "metadata": {},
   "outputs": [
    {
     "name": "stdout",
     "output_type": "stream",
     "text": [
      "Used memory: 3.3 Gb\n",
      "Free memory: 4.6 Gb\n"
     ]
    }
   ],
   "source": [
    "import psutil\n",
    "my_memo = psutil.virtual_memory()\n",
    "print('Used memory:',round(my_memo[-2]/1024**3,1),'Gb')\n",
    "print('Free memory:',round(my_memo[-1]/1024**3,1),'Gb')"
   ]
  },
  {
   "cell_type": "code",
   "execution_count": 23,
   "metadata": {},
   "outputs": [
    {
     "name": "stderr",
     "output_type": "stream",
     "text": [
      "Using TensorFlow backend.\n"
     ]
    }
   ],
   "source": [
    "import numpy as np\n",
    "from keras.utils import to_categorical as keras_ohe\n",
    "import tensorflow as tf\n",
    "from tensorflow import one_hot as tensor_ohe\n",
    "\n",
    "arr = np.array([1,2,3,4,5,5,5,8,2,1,77]*1000000, dtype='int32')\n",
    "uniq = np.unique(arr).tolist()\n",
    "\n",
    "tf_arr = tf.constant(arr, dtype='int32')\n",
    "tf_uniq = tf.constant(len(uniq), dtype='int32')\n",
    "\n",
    "def numpy_ohe_1(x):\n",
    "    unique_list = np.unique(arr).tolist()\n",
    "    return np.array([(x == i)*1 for i in unique_list]).T\n",
    "\n",
    "def numpy_ohe_2(x,unique_list):\n",
    "    return np.array([(x == i)*1 for i in unique_list]).T\n",
    "\n",
    "def tf_ohe_inside(arr,uniq):\n",
    "    sess = tf.InteractiveSession() \n",
    "    tf_arr = tf.Variable(arr)\n",
    "    tf_uniq = tf.Variable(uniq)\n",
    "    sess.run(tf.global_variables_initializer())\n",
    "    ohe = tensor_ohe(tf_arr, tf_uniq[0]).eval()\n",
    "    sess.close()\n",
    "    return ohe"
   ]
  },
  {
   "cell_type": "code",
   "execution_count": 24,
   "metadata": {},
   "outputs": [
    {
     "name": "stdout",
     "output_type": "stream",
     "text": [
      "Used memory: 3.5 Gb\n",
      "Free memory: 4.4 Gb\n"
     ]
    }
   ],
   "source": [
    "my_memo = psutil.virtual_memory()\n",
    "print('Used memory:',round(my_memo[-2]/1024**3,1),'Gb')\n",
    "print('Free memory:',round(my_memo[-1]/1024**3,1),'Gb')"
   ]
  },
  {
   "cell_type": "code",
   "execution_count": 25,
   "metadata": {},
   "outputs": [],
   "source": [
    "sess = tf.InteractiveSession() "
   ]
  },
  {
   "cell_type": "code",
   "execution_count": 26,
   "metadata": {},
   "outputs": [
    {
     "name": "stdout",
     "output_type": "stream",
     "text": [
      "648 ms ± 9.93 ms per loop (mean ± std. dev. of 7 runs, 1 loop each)\n"
     ]
    }
   ],
   "source": [
    "%%timeit\n",
    "numpy_ohe_1(arr) \n",
    "# функция с numpy (вычислением количества категорий внутри функции\n",
    "# каждый раз - время - долго!)"
   ]
  },
  {
   "cell_type": "code",
   "execution_count": 27,
   "metadata": {},
   "outputs": [
    {
     "name": "stdout",
     "output_type": "stream",
     "text": [
      "411 ms ± 18.8 ms per loop (mean ± std. dev. of 7 runs, 1 loop each)\n"
     ]
    }
   ],
   "source": [
    "%%timeit\n",
    "numpy_ohe_2(arr,uniq)\n",
    "# функция с numpy (вычисление количества категорий вынесено за пределы фукции\n",
    "# один раз - время - быстрее)"
   ]
  },
  {
   "cell_type": "code",
   "execution_count": 28,
   "metadata": {},
   "outputs": [
    {
     "name": "stdout",
     "output_type": "stream",
     "text": [
      "1.61 s ± 28.6 ms per loop (mean ± std. dev. of 7 runs, 1 loop each)\n"
     ]
    }
   ],
   "source": [
    "%%timeit\n",
    "keras_ohe(arr)\n",
    "# реализация one-hot-encoding в keras"
   ]
  },
  {
   "cell_type": "code",
   "execution_count": 29,
   "metadata": {},
   "outputs": [
    {
     "name": "stdout",
     "output_type": "stream",
     "text": [
      "4.57 s ± 302 ms per loop (mean ± std. dev. of 7 runs, 1 loop each)\n"
     ]
    }
   ],
   "source": [
    "%%timeit\n",
    "tensor_ohe(arr, len(uniq)).eval()\n",
    "# реализация на тензорах - на вход подается numpy-вектор и число"
   ]
  },
  {
   "cell_type": "code",
   "execution_count": 30,
   "metadata": {},
   "outputs": [
    {
     "name": "stdout",
     "output_type": "stream",
     "text": [
      "4.03 s ± 55.8 ms per loop (mean ± std. dev. of 7 runs, 1 loop each)\n"
     ]
    }
   ],
   "source": [
    "%%timeit\n",
    "tensor_ohe(tf_arr, tf_uniq).eval()\n",
    "# реализация на тензорах - на вход подается tensor-вектор и tensor-число\n",
    "# инициализация константами"
   ]
  },
  {
   "cell_type": "code",
   "execution_count": 31,
   "metadata": {},
   "outputs": [],
   "source": [
    "tf_v_arr = tf.Variable(arr)\n",
    "tf_v_uniq = tf.Variable(uniq)\n",
    "sess.run(tf.global_variables_initializer())"
   ]
  },
  {
   "cell_type": "code",
   "execution_count": 32,
   "metadata": {},
   "outputs": [
    {
     "name": "stdout",
     "output_type": "stream",
     "text": [
      "1.51 s ± 45.6 ms per loop (mean ± std. dev. of 7 runs, 1 loop each)\n"
     ]
    }
   ],
   "source": [
    "%%timeit\n",
    "tensor_ohe(tf_v_arr, tf_v_uniq[0]).eval()\n",
    "# реализация на тензорах - иниициализация один раз - время - не самое хорошее\n",
    "# инициализация переменной variable (до выполнения графа)"
   ]
  },
  {
   "cell_type": "code",
   "execution_count": 33,
   "metadata": {},
   "outputs": [],
   "source": [
    "tf_p_arr = tf.placeholder(dtype='int32', shape=arr.shape)\n",
    "tf_p_uniq = tf.placeholder(dtype='int32', shape=())\n",
    "tf_p_ohe = tensor_ohe(tf_p_arr, tf_p_uniq)"
   ]
  },
  {
   "cell_type": "code",
   "execution_count": 34,
   "metadata": {},
   "outputs": [
    {
     "name": "stdout",
     "output_type": "stream",
     "text": [
      "554 ms ± 4.3 ms per loop (mean ± std. dev. of 7 runs, 1 loop each)\n"
     ]
    }
   ],
   "source": [
    "%%timeit\n",
    "tf_p_ohe.eval({tf_p_arr: arr, tf_p_uniq: len(uniq)})\n",
    "# реализация на тензорах - на вход подаются параметры - НЕ тензоры \n",
    "# с предварительной резервацией плейсхолдеров - время лучшее, сопостовимое с numpy"
   ]
  },
  {
   "cell_type": "code",
   "execution_count": 35,
   "metadata": {},
   "outputs": [],
   "source": [
    "sess.close()"
   ]
  },
  {
   "cell_type": "code",
   "execution_count": 36,
   "metadata": {},
   "outputs": [
    {
     "name": "stdout",
     "output_type": "stream",
     "text": [
      "6.12 s ± 782 ms per loop (mean ± std. dev. of 7 runs, 1 loop each)\n"
     ]
    }
   ],
   "source": [
    "%%timeit\n",
    "tf_ohe_inside(arr,uniq)\n",
    "# реализация на тензорах - инициализация каждый раз - время - отвратительное \n",
    "# инициализация переменной tensor variable - внутри функции - очевидно, неправильно!"
   ]
  },
  {
   "cell_type": "code",
   "execution_count": 37,
   "metadata": {},
   "outputs": [
    {
     "name": "stdout",
     "output_type": "stream",
     "text": [
      "Used memory: 3.3 Gb\n",
      "Free memory: 4.6 Gb\n"
     ]
    }
   ],
   "source": [
    "my_memo = psutil.virtual_memory()\n",
    "print('Used memory:',round(my_memo[-2]/1024**3,1),'Gb')\n",
    "print('Free memory:',round(my_memo[-1]/1024**3,1),'Gb')"
   ]
  },
  {
   "cell_type": "code",
   "execution_count": null,
   "metadata": {},
   "outputs": [],
   "source": []
  },
  {
   "cell_type": "code",
   "execution_count": null,
   "metadata": {},
   "outputs": [],
   "source": []
  },
  {
   "cell_type": "code",
   "execution_count": null,
   "metadata": {},
   "outputs": [],
   "source": []
  },
  {
   "cell_type": "code",
   "execution_count": null,
   "metadata": {},
   "outputs": [],
   "source": []
  }
 ],
 "metadata": {
  "kernelspec": {
   "display_name": "Python 3",
   "language": "python",
   "name": "python3"
  },
  "language_info": {
   "codemirror_mode": {
    "name": "ipython",
    "version": 3
   },
   "file_extension": ".py",
   "mimetype": "text/x-python",
   "name": "python",
   "nbconvert_exporter": "python",
   "pygments_lexer": "ipython3",
   "version": "3.6.6"
  }
 },
 "nbformat": 4,
 "nbformat_minor": 2
}
